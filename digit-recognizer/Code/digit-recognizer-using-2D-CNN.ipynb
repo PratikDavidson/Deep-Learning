{
 "cells": [
  {
   "cell_type": "code",
   "execution_count": 16,
   "id": "c24a0abf",
   "metadata": {},
   "outputs": [],
   "source": [
    "import numpy as np\n",
    "import pandas as pd\n",
    "import matplotlib.pyplot as plt\n",
    "import tensorflow as tf\n",
    "import keras\n",
    "from keras.models import Model\n",
    "from keras.layers import Activation,Add,Dense,Conv2D,MaxPooling2D,AveragePooling2D,Flatten,GlobalMaxPooling2D,Dropout,BatchNormalization,Input,Activation,GlobalAveragePooling2D\n",
    "from keras import callbacks\n",
    "from tensorflow.keras.utils import to_categorical"
   ]
  },
  {
   "cell_type": "code",
   "execution_count": 2,
   "id": "afc89730",
   "metadata": {},
   "outputs": [],
   "source": [
    "train = pd.read_csv('D:\\\\ML\\\\DL Repo\\\\digit-recognizer\\\\Data\\\\train.csv')\n",
    "test = pd.read_csv('D:\\\\ML\\\\DL Repo\\\\digit-recognizer\\\\Data\\\\test.csv')"
   ]
  },
  {
   "cell_type": "code",
   "execution_count": 10,
   "id": "d5a57e30",
   "metadata": {},
   "outputs": [],
   "source": [
    "X = np.array(train[train.columns[1:]])\n",
    "y = train['label']"
   ]
  },
  {
   "cell_type": "code",
   "execution_count": 11,
   "id": "bb738909",
   "metadata": {},
   "outputs": [],
   "source": [
    "y_train = to_categorical(y)"
   ]
  },
  {
   "cell_type": "code",
   "execution_count": 13,
   "id": "fdbbe1dd",
   "metadata": {},
   "outputs": [],
   "source": [
    "X = X.reshape((X.shape[0],28,28,1))\n",
    "X_train = X/255"
   ]
  },
  {
   "cell_type": "code",
   "execution_count": 14,
   "id": "2fe6ff16",
   "metadata": {},
   "outputs": [
    {
     "data": {
      "text/plain": [
       "<matplotlib.image.AxesImage at 0x2b8e4da3700>"
      ]
     },
     "execution_count": 14,
     "metadata": {},
     "output_type": "execute_result"
    },
    {
     "data": {
      "image/png": "[encoded data removed]",
      "text/plain": [
       "<Figure size 432x288 with 1 Axes>"
      ]
     },
     "metadata": {
      "needs_background": "light"
     },
     "output_type": "display_data"
    }
   ],
   "source": [
    "plt.imshow(X_train[0],cmap=plt.cm.gray)"
   ]
  },
  {
   "cell_type": "code",
   "execution_count": 15,
   "id": "533d6252",
   "metadata": {},
   "outputs": [
    {
     "data": {
      "text/plain": [
       "((42000, 28, 28, 1), (42000, 10))"
      ]
     },
     "execution_count": 15,
     "metadata": {},
     "output_type": "execute_result"
    }
   ],
   "source": [
    "X_train.shape,y_train.shape"
   ]
  },
  {
   "cell_type": "code",
   "execution_count": 26,
   "id": "397151f4",
   "metadata": {},
   "outputs": [],
   "source": [
    "def make_model():    \n",
    "    input_shape = X_train.shape[1:]\n",
    "    num_classes = 10\n",
    "\n",
    "    input_layer = Input(input_shape)\n",
    "    #input_layer = BatchNormalization()(input_layer)\n",
    "\n",
    "\n",
    "    conv1 = Conv2D(filters=64, kernel_size=3, padding=\"same\", use_bias = False)(input_layer)\n",
    "    conv1 = BatchNormalization()(conv1)\n",
    "    conv1 = Activation('relu')(conv1)\n",
    "    \n",
    "    pool1 = MaxPooling2D(3)(conv1)\n",
    "    pool1 = Dropout(0.2)(pool1)\n",
    "    \n",
    "    conv2 = Conv2D(filters=64, kernel_size=3, padding=\"same\", use_bias = False)(pool1)\n",
    "    conv2 = BatchNormalization()(conv2)\n",
    "    conv2 = Activation('relu')(conv2)\n",
    "    \n",
    "    pool2 = MaxPooling2D(3)(conv2)\n",
    "    pool2 = Dropout(0.2)(pool2)\n",
    "    \n",
    "    conv3 = Conv2D(filters=64, kernel_size=3, padding=\"same\", use_bias = False)(pool2)\n",
    "    conv3 = BatchNormalization()(conv3)\n",
    "    conv3 = Activation('relu')(conv3)\n",
    "\n",
    "    gap = MaxPooling2D(3)(conv3)\n",
    "    gap = Flatten()(gap)\n",
    "    gap = Dropout(0.5)(gap)\n",
    "\n",
    "    output_layer = Dense(num_classes, activation=\"softmax\")(gap)\n",
    "\n",
    "    return Model(inputs=input_layer, outputs=output_layer)\n",
    "\n",
    "\n",
    "model = make_model()"
   ]
  },
  {
   "cell_type": "code",
   "execution_count": 27,
   "id": "ede59777",
   "metadata": {},
   "outputs": [],
   "source": [
    "model.compile(loss='categorical_crossentropy',optimizer='adam',metrics=['accuracy'])"
   ]
  },
  {
   "cell_type": "code",
   "execution_count": 23,
   "id": "f59e6bab",
   "metadata": {},
   "outputs": [],
   "source": [
    "callbacks = [callbacks.ModelCheckpoint(\"D:\\\\ML\\\\DL Repo\\\\digit-recognizer\\\\model\\\\best_2D_CNN_model.h5\", save_best_only=True, monitor=\"val_loss\"),\n",
    "             callbacks.ReduceLROnPlateau(monitor=\"val_loss\", factor=0.5, patience=20, min_lr=0.0001),\n",
    "             callbacks.EarlyStopping(monitor=\"val_loss\", patience=20, verbose=1)]"
   ]
  },
  {
   "cell_type": "code",
   "execution_count": 28,
   "id": "20d706c2",
   "metadata": {},
   "outputs": [
    {
     "name": "stdout",
     "output_type": "stream",
     "text": [
      "Epoch 1/500\n",
      "263/263 [==============================] - 3s 10ms/step - loss: 1.3541 - accuracy: 0.5960 - val_loss: 3.9055 - val_accuracy: 0.1131 - lr: 0.0010\n",
      "Epoch 2/500\n",
      "263/263 [==============================] - 2s 7ms/step - loss: 0.3927 - accuracy: 0.8736 - val_loss: 1.6220 - val_accuracy: 0.3982 - lr: 0.0010\n",
      "Epoch 3/500\n",
      "263/263 [==============================] - 2s 6ms/step - loss: 0.2543 - accuracy: 0.9222 - val_loss: 0.0797 - val_accuracy: 0.9782 - lr: 0.0010\n",
      "Epoch 4/500\n",
      "263/263 [==============================] - 2s 8ms/step - loss: 0.1934 - accuracy: 0.9423 - val_loss: 0.0598 - val_accuracy: 0.9830 - lr: 0.0010\n",
      "Epoch 5/500\n",
      "263/263 [==============================] - 1s 5ms/step - loss: 0.1658 - accuracy: 0.9516 - val_loss: 0.0694 - val_accuracy: 0.9785 - lr: 0.0010\n",
      "Epoch 6/500\n",
      "263/263 [==============================] - 2s 8ms/step - loss: 0.1346 - accuracy: 0.9611 - val_loss: 0.0462 - val_accuracy: 0.9861 - lr: 0.0010\n",
      "Epoch 7/500\n",
      "263/263 [==============================] - 1s 5ms/step - loss: 0.1243 - accuracy: 0.9631 - val_loss: 0.0477 - val_accuracy: 0.9862 - lr: 0.0010\n",
      "Epoch 8/500\n",
      "263/263 [==============================] - 2s 6ms/step - loss: 0.1136 - accuracy: 0.9676 - val_loss: 0.0444 - val_accuracy: 0.9873 - lr: 0.0010\n",
      "Epoch 9/500\n",
      "263/263 [==============================] - 3s 10ms/step - loss: 0.0953 - accuracy: 0.9718 - val_loss: 0.0390 - val_accuracy: 0.9886 - lr: 0.0010\n",
      "Epoch 10/500\n",
      "263/263 [==============================] - 1s 5ms/step - loss: 0.0935 - accuracy: 0.9737 - val_loss: 0.0404 - val_accuracy: 0.9874 - lr: 0.0010\n",
      "Epoch 11/500\n",
      "263/263 [==============================] - 2s 8ms/step - loss: 0.0882 - accuracy: 0.9753 - val_loss: 0.0387 - val_accuracy: 0.9892 - lr: 0.0010\n",
      "Epoch 12/500\n",
      "263/263 [==============================] - 1s 5ms/step - loss: 0.0794 - accuracy: 0.9762 - val_loss: 0.0422 - val_accuracy: 0.9876 - lr: 0.0010\n",
      "Epoch 13/500\n",
      "263/263 [==============================] - 2s 6ms/step - loss: 0.0755 - accuracy: 0.9782 - val_loss: 0.0316 - val_accuracy: 0.9907 - lr: 0.0010\n",
      "Epoch 14/500\n",
      "263/263 [==============================] - 1s 5ms/step - loss: 0.0732 - accuracy: 0.9779 - val_loss: 0.0364 - val_accuracy: 0.9905 - lr: 0.0010\n",
      "Epoch 15/500\n",
      "263/263 [==============================] - 1s 5ms/step - loss: 0.0680 - accuracy: 0.9790 - val_loss: 0.0334 - val_accuracy: 0.9904 - lr: 0.0010\n",
      "Epoch 16/500\n",
      "263/263 [==============================] - 2s 6ms/step - loss: 0.0613 - accuracy: 0.9825 - val_loss: 0.0297 - val_accuracy: 0.9911 - lr: 0.0010\n",
      "Epoch 17/500\n",
      "263/263 [==============================] - 2s 6ms/step - loss: 0.0640 - accuracy: 0.9813 - val_loss: 0.0288 - val_accuracy: 0.9910 - lr: 0.0010\n",
      "Epoch 18/500\n",
      "263/263 [==============================] - 1s 5ms/step - loss: 0.0609 - accuracy: 0.9818 - val_loss: 0.0327 - val_accuracy: 0.9901 - lr: 0.0010\n",
      "Epoch 19/500\n",
      "263/263 [==============================] - 1s 5ms/step - loss: 0.0585 - accuracy: 0.9826 - val_loss: 0.0299 - val_accuracy: 0.9904 - lr: 0.0010\n",
      "Epoch 20/500\n",
      "263/263 [==============================] - 1s 5ms/step - loss: 0.0532 - accuracy: 0.9843 - val_loss: 0.0368 - val_accuracy: 0.9893 - lr: 0.0010\n",
      "Epoch 21/500\n",
      "263/263 [==============================] - 1s 5ms/step - loss: 0.0530 - accuracy: 0.9837 - val_loss: 0.0312 - val_accuracy: 0.9914 - lr: 0.0010\n",
      "Epoch 22/500\n",
      "263/263 [==============================] - 1s 5ms/step - loss: 0.0498 - accuracy: 0.9857 - val_loss: 0.0301 - val_accuracy: 0.9918 - lr: 0.0010\n",
      "Epoch 23/500\n",
      "263/263 [==============================] - 1s 5ms/step - loss: 0.0474 - accuracy: 0.9855 - val_loss: 0.0327 - val_accuracy: 0.9911 - lr: 0.0010\n",
      "Epoch 24/500\n",
      "263/263 [==============================] - 1s 5ms/step - loss: 0.0458 - accuracy: 0.9870 - val_loss: 0.0288 - val_accuracy: 0.9918 - lr: 0.0010\n",
      "Epoch 25/500\n",
      "263/263 [==============================] - 1s 5ms/step - loss: 0.0461 - accuracy: 0.9862 - val_loss: 0.0288 - val_accuracy: 0.9923 - lr: 0.0010\n",
      "Epoch 26/500\n",
      "263/263 [==============================] - 2s 6ms/step - loss: 0.0468 - accuracy: 0.9858 - val_loss: 0.0261 - val_accuracy: 0.9930 - lr: 0.0010\n",
      "Epoch 27/500\n",
      "263/263 [==============================] - 1s 6ms/step - loss: 0.0442 - accuracy: 0.9869 - val_loss: 0.0287 - val_accuracy: 0.9917 - lr: 0.0010\n",
      "Epoch 28/500\n",
      "263/263 [==============================] - 1s 5ms/step - loss: 0.0424 - accuracy: 0.9875 - val_loss: 0.0320 - val_accuracy: 0.9913 - lr: 0.0010\n",
      "Epoch 29/500\n",
      "263/263 [==============================] - 1s 5ms/step - loss: 0.0405 - accuracy: 0.9875 - val_loss: 0.0337 - val_accuracy: 0.9919 - lr: 0.0010\n",
      "Epoch 30/500\n",
      "263/263 [==============================] - 2s 6ms/step - loss: 0.0395 - accuracy: 0.9880 - val_loss: 0.0246 - val_accuracy: 0.9931 - lr: 0.0010\n",
      "Epoch 31/500\n",
      "263/263 [==============================] - 1s 5ms/step - loss: 0.0369 - accuracy: 0.9883 - val_loss: 0.0301 - val_accuracy: 0.9915 - lr: 0.0010\n",
      "Epoch 32/500\n",
      "263/263 [==============================] - 1s 5ms/step - loss: 0.0381 - accuracy: 0.9885 - val_loss: 0.0291 - val_accuracy: 0.9921 - lr: 0.0010\n",
      "Epoch 33/500\n",
      "263/263 [==============================] - 1s 6ms/step - loss: 0.0413 - accuracy: 0.9877 - val_loss: 0.0327 - val_accuracy: 0.9906 - lr: 0.0010\n",
      "Epoch 34/500\n",
      "263/263 [==============================] - 1s 5ms/step - loss: 0.0351 - accuracy: 0.9894 - val_loss: 0.0269 - val_accuracy: 0.9923 - lr: 0.0010\n",
      "Epoch 35/500\n",
      "263/263 [==============================] - 1s 6ms/step - loss: 0.0371 - accuracy: 0.9887 - val_loss: 0.0250 - val_accuracy: 0.9933 - lr: 0.0010\n",
      "Epoch 36/500\n",
      "263/263 [==============================] - 1s 6ms/step - loss: 0.0376 - accuracy: 0.9883 - val_loss: 0.0285 - val_accuracy: 0.9926 - lr: 0.0010\n",
      "Epoch 37/500\n",
      "263/263 [==============================] - 1s 5ms/step - loss: 0.0353 - accuracy: 0.9890 - val_loss: 0.0288 - val_accuracy: 0.9915 - lr: 0.0010\n",
      "Epoch 38/500\n",
      "263/263 [==============================] - 1s 5ms/step - loss: 0.0343 - accuracy: 0.9895 - val_loss: 0.0270 - val_accuracy: 0.9925 - lr: 0.0010\n",
      "Epoch 39/500\n",
      "263/263 [==============================] - 1s 6ms/step - loss: 0.0318 - accuracy: 0.9902 - val_loss: 0.0271 - val_accuracy: 0.9926 - lr: 0.0010\n",
      "Epoch 40/500\n",
      "263/263 [==============================] - 1s 5ms/step - loss: 0.0357 - accuracy: 0.9892 - val_loss: 0.0274 - val_accuracy: 0.9921 - lr: 0.0010\n",
      "Epoch 41/500\n",
      "263/263 [==============================] - 1s 6ms/step - loss: 0.0342 - accuracy: 0.9894 - val_loss: 0.0282 - val_accuracy: 0.9929 - lr: 0.0010\n",
      "Epoch 42/500\n",
      "263/263 [==============================] - 1s 6ms/step - loss: 0.0313 - accuracy: 0.9901 - val_loss: 0.0265 - val_accuracy: 0.9925 - lr: 0.0010\n",
      "Epoch 43/500\n",
      "263/263 [==============================] - 1s 6ms/step - loss: 0.0284 - accuracy: 0.9911 - val_loss: 0.0302 - val_accuracy: 0.9924 - lr: 0.0010\n",
      "Epoch 44/500\n",
      "263/263 [==============================] - 1s 5ms/step - loss: 0.0304 - accuracy: 0.9905 - val_loss: 0.0304 - val_accuracy: 0.9917 - lr: 0.0010\n",
      "Epoch 45/500\n",
      "263/263 [==============================] - 1s 5ms/step - loss: 0.0312 - accuracy: 0.9896 - val_loss: 0.0291 - val_accuracy: 0.9919 - lr: 0.0010\n",
      "Epoch 46/500\n",
      "263/263 [==============================] - 1s 6ms/step - loss: 0.0301 - accuracy: 0.9902 - val_loss: 0.0283 - val_accuracy: 0.9918 - lr: 0.0010\n",
      "Epoch 47/500\n",
      "263/263 [==============================] - 2s 6ms/step - loss: 0.0295 - accuracy: 0.9906 - val_loss: 0.0276 - val_accuracy: 0.9930 - lr: 0.0010\n",
      "Epoch 48/500\n",
      "263/263 [==============================] - 1s 5ms/step - loss: 0.0272 - accuracy: 0.9917 - val_loss: 0.0274 - val_accuracy: 0.9926 - lr: 0.0010\n",
      "Epoch 49/500\n",
      "263/263 [==============================] - 1s 6ms/step - loss: 0.0281 - accuracy: 0.9914 - val_loss: 0.0273 - val_accuracy: 0.9927 - lr: 0.0010\n",
      "Epoch 50/500\n",
      "263/263 [==============================] - 1s 5ms/step - loss: 0.0287 - accuracy: 0.9909 - val_loss: 0.0286 - val_accuracy: 0.9923 - lr: 0.0010\n",
      "Epoch 50: early stopping\n"
     ]
    }
   ],
   "source": [
    "history = model.fit(X_train,y_train,epochs=500,batch_size=128,validation_split=0.2,callbacks=callbacks)"
   ]
  },
  {
   "cell_type": "code",
   "execution_count": 32,
   "id": "bace5ccd",
   "metadata": {},
   "outputs": [],
   "source": [
    "model = keras.models.load_model('D:\\\\ML\\\\DL Repo\\\\digit-recognizer\\\\model\\\\best_2D_CNN_model.h5')"
   ]
  },
  {
   "cell_type": "code",
   "execution_count": 34,
   "id": "38710a6d",
   "metadata": {},
   "outputs": [],
   "source": [
    "X_test = np.array(test).reshape((test.shape[0],28,28,1))\n",
    "X_test = X_test/255\n",
    "test_y = model.predict(X_test)"
   ]
  },
  {
   "cell_type": "code",
   "execution_count": 35,
   "id": "94245c1f",
   "metadata": {},
   "outputs": [],
   "source": [
    "dic = {'ImageId':[],'Label':[]}\n",
    "for i in range(len(test_y)):\n",
    "    dic['ImageId'].append(i+1)\n",
    "    dic['Label'].append(np.argmax(test_y[i]))"
   ]
  },
  {
   "cell_type": "code",
   "execution_count": 36,
   "id": "425cab87",
   "metadata": {},
   "outputs": [
    {
     "data": {
      "text/html": [
       "<div>\n",
       "<style scoped>\n",
       "    .dataframe tbody tr th:only-of-type {\n",
       "        vertical-align: middle;\n",
       "    }\n",
       "\n",
       "    .dataframe tbody tr th {\n",
       "        vertical-align: top;\n",
       "    }\n",
       "\n",
       "    .dataframe thead th {\n",
       "        text-align: right;\n",
       "    }\n",
       "</style>\n",
       "<table border=\"1\" class=\"dataframe\">\n",
       "  <thead>\n",
       "    <tr style=\"text-align: right;\">\n",
       "      <th></th>\n",
       "      <th>ImageId</th>\n",
       "      <th>Label</th>\n",
       "    </tr>\n",
       "  </thead>\n",
       "  <tbody>\n",
       "    <tr>\n",
       "      <th>0</th>\n",
       "      <td>1</td>\n",
       "      <td>2</td>\n",
       "    </tr>\n",
       "    <tr>\n",
       "      <th>1</th>\n",
       "      <td>2</td>\n",
       "      <td>0</td>\n",
       "    </tr>\n",
       "    <tr>\n",
       "      <th>2</th>\n",
       "      <td>3</td>\n",
       "      <td>9</td>\n",
       "    </tr>\n",
       "    <tr>\n",
       "      <th>3</th>\n",
       "      <td>4</td>\n",
       "      <td>0</td>\n",
       "    </tr>\n",
       "    <tr>\n",
       "      <th>4</th>\n",
       "      <td>5</td>\n",
       "      <td>3</td>\n",
       "    </tr>\n",
       "  </tbody>\n",
       "</table>\n",
       "</div>"
      ],
      "text/plain": [
       "   ImageId  Label\n",
       "0        1      2\n",
       "1        2      0\n",
       "2        3      9\n",
       "3        4      0\n",
       "4        5      3"
      ]
     },
     "execution_count": 36,
     "metadata": {},
     "output_type": "execute_result"
    }
   ],
   "source": [
    "test_df = pd.DataFrame.from_dict(dic)\n",
    "test_df.head()"
   ]
  },
  {
   "cell_type": "code",
   "execution_count": 37,
   "id": "6e13bee7",
   "metadata": {},
   "outputs": [],
   "source": [
    "test_df.to_csv('D:\\\\ML\\\\DL Repo\\\\digit-recognizer\\\\Out\\\\my_submission_file_2D_CNN.csv', index=False)"
   ]
  },
  {
   "cell_type": "code",
   "execution_count": 29,
   "id": "defa9be4",
   "metadata": {},
   "outputs": [
    {
     "data": {
      "image/png": "[encoded data removed]",
      "text/plain": [
       "<Figure size 432x288 with 1 Axes>"
      ]
     },
     "metadata": {
      "needs_background": "light"
     },
     "output_type": "display_data"
    }
   ],
   "source": [
    "metric = \"accuracy\"\n",
    "plt.figure()\n",
    "plt.plot(history.history[metric])\n",
    "plt.plot(history.history[\"val_\" + metric])\n",
    "plt.title(\"model \" + metric)\n",
    "plt.ylabel(metric, fontsize=\"large\")\n",
    "plt.xlabel(\"epoch\", fontsize=\"large\")\n",
    "plt.legend([\"train\", \"val\"], loc=\"best\")\n",
    "plt.show()\n",
    "plt.close()"
   ]
  },
  {
   "cell_type": "code",
   "execution_count": 38,
   "id": "350c13a9",
   "metadata": {},
   "outputs": [
    {
     "name": "stdout",
     "output_type": "stream",
     "text": [
      "Model: \"model_1\"\n",
      "_________________________________________________________________\n",
      " Layer (type)                Output Shape              Param #   \n",
      "=================================================================\n",
      " input_6 (InputLayer)        [(None, 28, 28, 1)]       0         \n",
      "                                                                 \n",
      " conv2d_15 (Conv2D)          (None, 28, 28, 64)        576       \n",
      "                                                                 \n",
      " batch_normalization_17 (Bat  (None, 28, 28, 64)       256       \n",
      " chNormalization)                                                \n",
      "                                                                 \n",
      " activation_15 (Activation)  (None, 28, 28, 64)        0         \n",
      "                                                                 \n",
      " max_pooling2d_11 (MaxPoolin  (None, 9, 9, 64)         0         \n",
      " g2D)                                                            \n",
      "                                                                 \n",
      " dropout_11 (Dropout)        (None, 9, 9, 64)          0         \n",
      "                                                                 \n",
      " conv2d_16 (Conv2D)          (None, 9, 9, 64)          36864     \n",
      "                                                                 \n",
      " batch_normalization_18 (Bat  (None, 9, 9, 64)         256       \n",
      " chNormalization)                                                \n",
      "                                                                 \n",
      " activation_16 (Activation)  (None, 9, 9, 64)          0         \n",
      "                                                                 \n",
      " max_pooling2d_12 (MaxPoolin  (None, 3, 3, 64)         0         \n",
      " g2D)                                                            \n",
      "                                                                 \n",
      " dropout_12 (Dropout)        (None, 3, 3, 64)          0         \n",
      "                                                                 \n",
      " conv2d_17 (Conv2D)          (None, 3, 3, 64)          36864     \n",
      "                                                                 \n",
      " batch_normalization_19 (Bat  (None, 3, 3, 64)         256       \n",
      " chNormalization)                                                \n",
      "                                                                 \n",
      " activation_17 (Activation)  (None, 3, 3, 64)          0         \n",
      "                                                                 \n",
      " max_pooling2d_13 (MaxPoolin  (None, 1, 1, 64)         0         \n",
      " g2D)                                                            \n",
      "                                                                 \n",
      " flatten_1 (Flatten)         (None, 64)                0         \n",
      "                                                                 \n",
      " dropout_13 (Dropout)        (None, 64)                0         \n",
      "                                                                 \n",
      " dense_1 (Dense)             (None, 10)                650       \n",
      "                                                                 \n",
      "=================================================================\n",
      "Total params: 75,722\n",
      "Trainable params: 75,338\n",
      "Non-trainable params: 384\n",
      "_________________________________________________________________\n"
     ]
    }
   ],
   "source": [
    "model.summary()"
   ]
  },
  {
   "cell_type": "code",
   "execution_count": null,
   "id": "e3dbbc21",
   "metadata": {},
   "outputs": [],
   "source": []
  }
 ],
 "metadata": {
  "kernelspec": {
   "display_name": "Python 3 (ipykernel)",
   "language": "python",
   "name": "python3"
  },
  "language_info": {
   "codemirror_mode": {
    "name": "ipython",
    "version": 3
   },
   "file_extension": ".py",
   "mimetype": "text/x-python",
   "name": "python",
   "nbconvert_exporter": "python",
   "pygments_lexer": "ipython3",
   "version": "3.10.4"
  }
 },
 "nbformat": 4,
 "nbformat_minor": 5
}
