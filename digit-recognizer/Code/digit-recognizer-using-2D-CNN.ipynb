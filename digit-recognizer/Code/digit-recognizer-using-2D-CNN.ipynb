{
 "cells": [
  {
   "cell_type": "code",
   "execution_count": 1,
   "id": "18d56b72",
   "metadata": {},
   "outputs": [],
   "source": [
    "import numpy as np\n",
    "import pandas as pd\n",
    "import matplotlib.pyplot as plt\n",
    "import tensorflow as tf\n",
    "import keras\n",
    "from keras.models import Model\n",
    "from keras.layers import Activation,Add,Dense,Conv2D,MaxPooling2D,AveragePooling2D,Flatten,GlobalMaxPooling2D,Dropout,BatchNormalization,Input,Activation,GlobalAveragePooling2D\n",
    "from keras import callbacks\n",
    "from tensorflow.keras.utils import to_categorical"
   ]
  },
  {
   "cell_type": "code",
   "execution_count": 2,
   "id": "c74d7d0d",
   "metadata": {},
   "outputs": [],
   "source": [
    "train = pd.read_csv('D:\\\\ML\\\\DL Repo\\\\digit-recognizer\\\\Data\\\\train.csv')\n",
    "test = pd.read_csv('D:\\\\ML\\\\DL Repo\\\\digit-recognizer\\\\Data\\\\test.csv')"
   ]
  },
  {
   "cell_type": "code",
   "execution_count": 3,
   "id": "2154e7a7",
   "metadata": {},
   "outputs": [],
   "source": [
    "X = np.array(train[train.columns[1:]])\n",
    "y = train['label']"
   ]
  },
  {
   "cell_type": "code",
   "execution_count": 4,
   "id": "f5588401",
   "metadata": {},
   "outputs": [],
   "source": [
    "y_train = to_categorical(y)"
   ]
  },
  {
   "cell_type": "code",
   "execution_count": 5,
   "id": "c9d0d2e3",
   "metadata": {},
   "outputs": [],
   "source": [
    "X = X.reshape((X.shape[0],28,28,1))\n",
    "X_train = X/255"
   ]
  },
  {
   "cell_type": "code",
   "execution_count": 6,
   "id": "778f8bc6",
   "metadata": {},
   "outputs": [
    {
     "data": {
      "text/plain": [
       "<matplotlib.image.AxesImage at 0x1ed52f50430>"
      ]
     },
     "execution_count": 6,
     "metadata": {},
     "output_type": "execute_result"
    },
    {
     "data": {
      "image/png": "[encoded data removed]",
      "text/plain": [
       "<Figure size 432x288 with 1 Axes>"
      ]
     },
     "metadata": {
      "needs_background": "light"
     },
     "output_type": "display_data"
    }
   ],
   "source": [
    "plt.imshow(X_train[1],cmap=plt.cm.gray)"
   ]
  },
  {
   "cell_type": "code",
   "execution_count": 7,
   "id": "d3c1e6bf",
   "metadata": {},
   "outputs": [
    {
     "data": {
      "text/plain": [
       "((42000, 28, 28, 1), (42000, 10))"
      ]
     },
     "execution_count": 7,
     "metadata": {},
     "output_type": "execute_result"
    }
   ],
   "source": [
    "X_train.shape,y_train.shape"
   ]
  },
  {
   "cell_type": "code",
   "execution_count": 8,
   "id": "e68c81aa",
   "metadata": {},
   "outputs": [],
   "source": [
    "def make_model():    \n",
    "    input_shape = X_train.shape[1:]\n",
    "    num_classes = 10\n",
    "\n",
    "    input_layer = Input(input_shape)\n",
    "    #input_layer = BatchNormalization()(input_layer)\n",
    "\n",
    "\n",
    "    conv1 = Conv2D(filters=64, kernel_size=3, padding=\"same\", use_bias = False)(input_layer)\n",
    "    conv1 = BatchNormalization()(conv1)\n",
    "    conv1 = Activation('relu')(conv1)\n",
    "    \n",
    "    pool1 = MaxPooling2D(3)(conv1)\n",
    "    pool1 = Dropout(0.2)(pool1)\n",
    "    \n",
    "    conv2 = Conv2D(filters=64, kernel_size=3, padding=\"same\", use_bias = False)(pool1)\n",
    "    conv2 = BatchNormalization()(conv2)\n",
    "    conv2 = Activation('relu')(conv2)\n",
    "    \n",
    "    pool2 = MaxPooling2D(3)(conv2)\n",
    "    pool2 = Dropout(0.2)(pool2)\n",
    "    \n",
    "    conv3 = Conv2D(filters=64, kernel_size=3, padding=\"same\", use_bias = False)(pool2)\n",
    "    conv3 = BatchNormalization()(conv3)\n",
    "    conv3 = Activation('relu')(conv3)\n",
    "\n",
    "    gap = MaxPooling2D(3)(conv3)\n",
    "    gap = Flatten()(gap)\n",
    "    gap = Dropout(0.5)(gap)\n",
    "\n",
    "    output_layer = Dense(num_classes, activation=\"softmax\")(gap)\n",
    "\n",
    "    return Model(inputs=input_layer, outputs=output_layer)\n",
    "\n",
    "\n",
    "model = make_model()"
   ]
  },
  {
   "cell_type": "code",
   "execution_count": 9,
   "id": "046fd46e",
   "metadata": {},
   "outputs": [],
   "source": [
    "model.compile(loss='categorical_crossentropy',optimizer='adam',metrics=['accuracy'])"
   ]
  },
  {
   "cell_type": "code",
   "execution_count": 10,
   "id": "dbac4e5d",
   "metadata": {},
   "outputs": [],
   "source": [
    "callbacks = [callbacks.ModelCheckpoint(\"D:\\\\ML\\\\DL Repo\\\\digit-recognizer\\\\model\\\\best_2D_CNN_model.h5\", save_best_only=True, monitor=\"val_loss\"),\n",
    "             callbacks.ReduceLROnPlateau(monitor=\"val_loss\", factor=0.5, patience=20, min_lr=0.0001),\n",
    "             callbacks.EarlyStopping(monitor=\"val_loss\", patience=20, verbose=1)]"
   ]
  },
  {
   "cell_type": "code",
   "execution_count": 11,
   "id": "eed0f1b3",
   "metadata": {},
   "outputs": [
    {
     "name": "stdout",
     "output_type": "stream",
     "text": [
      "Epoch 1/500\n",
      "263/263 [==============================] - 13s 10ms/step - loss: 1.3622 - accuracy: 0.5996 - val_loss: 4.0134 - val_accuracy: 0.1131 - lr: 0.0010\n",
      "Epoch 2/500\n",
      "263/263 [==============================] - 2s 7ms/step - loss: 0.3731 - accuracy: 0.8817 - val_loss: 0.8941 - val_accuracy: 0.6505 - lr: 0.0010\n",
      "Epoch 3/500\n",
      "263/263 [==============================] - 1s 6ms/step - loss: 0.2480 - accuracy: 0.9249 - val_loss: 0.0788 - val_accuracy: 0.9781 - lr: 0.0010\n",
      "Epoch 4/500\n",
      "263/263 [==============================] - 1s 6ms/step - loss: 0.1902 - accuracy: 0.9427 - val_loss: 0.0617 - val_accuracy: 0.9823 - lr: 0.0010\n",
      "Epoch 5/500\n",
      "263/263 [==============================] - 1s 6ms/step - loss: 0.1590 - accuracy: 0.9532 - val_loss: 0.0558 - val_accuracy: 0.9838 - lr: 0.0010\n",
      "Epoch 6/500\n",
      "263/263 [==============================] - 1s 5ms/step - loss: 0.1398 - accuracy: 0.9585 - val_loss: 0.0475 - val_accuracy: 0.9852 - lr: 0.0010\n",
      "Epoch 7/500\n",
      "263/263 [==============================] - 2s 7ms/step - loss: 0.1280 - accuracy: 0.9627 - val_loss: 0.0453 - val_accuracy: 0.9869 - lr: 0.0010\n",
      "Epoch 8/500\n",
      "263/263 [==============================] - 1s 6ms/step - loss: 0.1120 - accuracy: 0.9668 - val_loss: 0.0435 - val_accuracy: 0.9855 - lr: 0.0010\n",
      "Epoch 9/500\n",
      "263/263 [==============================] - 2s 6ms/step - loss: 0.1025 - accuracy: 0.9709 - val_loss: 0.0403 - val_accuracy: 0.9881 - lr: 0.0010\n",
      "Epoch 10/500\n",
      "263/263 [==============================] - 2s 6ms/step - loss: 0.0940 - accuracy: 0.9724 - val_loss: 0.0371 - val_accuracy: 0.9894 - lr: 0.0010\n",
      "Epoch 11/500\n",
      "263/263 [==============================] - 1s 6ms/step - loss: 0.0859 - accuracy: 0.9749 - val_loss: 0.0381 - val_accuracy: 0.9887 - lr: 0.0010\n",
      "Epoch 12/500\n",
      "263/263 [==============================] - 1s 6ms/step - loss: 0.0814 - accuracy: 0.9760 - val_loss: 0.0400 - val_accuracy: 0.9879 - lr: 0.0010\n",
      "Epoch 13/500\n",
      "263/263 [==============================] - 2s 6ms/step - loss: 0.0778 - accuracy: 0.9774 - val_loss: 0.0344 - val_accuracy: 0.9892 - lr: 0.0010\n",
      "Epoch 14/500\n",
      "263/263 [==============================] - 2s 6ms/step - loss: 0.0727 - accuracy: 0.9780 - val_loss: 0.0318 - val_accuracy: 0.9902 - lr: 0.0010\n",
      "Epoch 15/500\n",
      "263/263 [==============================] - 1s 6ms/step - loss: 0.0679 - accuracy: 0.9798 - val_loss: 0.0326 - val_accuracy: 0.9906 - lr: 0.0010\n",
      "Epoch 16/500\n",
      "263/263 [==============================] - 2s 6ms/step - loss: 0.0667 - accuracy: 0.9805 - val_loss: 0.0312 - val_accuracy: 0.9913 - lr: 0.0010\n",
      "Epoch 17/500\n",
      "263/263 [==============================] - 1s 6ms/step - loss: 0.0636 - accuracy: 0.9812 - val_loss: 0.0378 - val_accuracy: 0.9889 - lr: 0.0010\n",
      "Epoch 18/500\n",
      "263/263 [==============================] - 2s 6ms/step - loss: 0.0604 - accuracy: 0.9820 - val_loss: 0.0291 - val_accuracy: 0.9915 - lr: 0.0010\n",
      "Epoch 19/500\n",
      "263/263 [==============================] - 1s 6ms/step - loss: 0.0560 - accuracy: 0.9827 - val_loss: 0.0325 - val_accuracy: 0.9899 - lr: 0.0010\n",
      "Epoch 20/500\n",
      "263/263 [==============================] - 1s 6ms/step - loss: 0.0585 - accuracy: 0.9827 - val_loss: 0.0365 - val_accuracy: 0.9886 - lr: 0.0010\n",
      "Epoch 21/500\n",
      "263/263 [==============================] - 2s 6ms/step - loss: 0.0556 - accuracy: 0.9837 - val_loss: 0.0307 - val_accuracy: 0.9902 - lr: 0.0010\n",
      "Epoch 22/500\n",
      "263/263 [==============================] - 1s 6ms/step - loss: 0.0529 - accuracy: 0.9845 - val_loss: 0.0326 - val_accuracy: 0.9906 - lr: 0.0010\n",
      "Epoch 23/500\n",
      "263/263 [==============================] - 2s 6ms/step - loss: 0.0505 - accuracy: 0.9847 - val_loss: 0.0298 - val_accuracy: 0.9908 - lr: 0.0010\n",
      "Epoch 24/500\n",
      "263/263 [==============================] - 1s 6ms/step - loss: 0.0486 - accuracy: 0.9850 - val_loss: 0.0268 - val_accuracy: 0.9920 - lr: 0.0010\n",
      "Epoch 25/500\n",
      "263/263 [==============================] - 1s 6ms/step - loss: 0.0469 - accuracy: 0.9863 - val_loss: 0.0300 - val_accuracy: 0.9904 - lr: 0.0010\n",
      "Epoch 26/500\n",
      "263/263 [==============================] - 2s 6ms/step - loss: 0.0452 - accuracy: 0.9866 - val_loss: 0.0282 - val_accuracy: 0.9914 - lr: 0.0010\n",
      "Epoch 27/500\n",
      "263/263 [==============================] - 2s 6ms/step - loss: 0.0455 - accuracy: 0.9864 - val_loss: 0.0295 - val_accuracy: 0.9918 - lr: 0.0010\n",
      "Epoch 28/500\n",
      "263/263 [==============================] - 1s 6ms/step - loss: 0.0446 - accuracy: 0.9865 - val_loss: 0.0276 - val_accuracy: 0.9910 - lr: 0.0010\n",
      "Epoch 29/500\n",
      "263/263 [==============================] - 2s 6ms/step - loss: 0.0432 - accuracy: 0.9871 - val_loss: 0.0271 - val_accuracy: 0.9927 - lr: 0.0010\n",
      "Epoch 30/500\n",
      "263/263 [==============================] - 2s 6ms/step - loss: 0.0416 - accuracy: 0.9876 - val_loss: 0.0328 - val_accuracy: 0.9904 - lr: 0.0010\n",
      "Epoch 31/500\n",
      "263/263 [==============================] - 2s 6ms/step - loss: 0.0408 - accuracy: 0.9874 - val_loss: 0.0304 - val_accuracy: 0.9917 - lr: 0.0010\n",
      "Epoch 32/500\n",
      "263/263 [==============================] - 2s 6ms/step - loss: 0.0383 - accuracy: 0.9880 - val_loss: 0.0287 - val_accuracy: 0.9915 - lr: 0.0010\n",
      "Epoch 33/500\n",
      "263/263 [==============================] - 2s 6ms/step - loss: 0.0414 - accuracy: 0.9883 - val_loss: 0.0276 - val_accuracy: 0.9920 - lr: 0.0010\n",
      "Epoch 34/500\n",
      "263/263 [==============================] - 2s 6ms/step - loss: 0.0369 - accuracy: 0.9879 - val_loss: 0.0294 - val_accuracy: 0.9918 - lr: 0.0010\n",
      "Epoch 35/500\n",
      "263/263 [==============================] - 2s 6ms/step - loss: 0.0383 - accuracy: 0.9882 - val_loss: 0.0314 - val_accuracy: 0.9919 - lr: 0.0010\n",
      "Epoch 36/500\n",
      "263/263 [==============================] - 2s 6ms/step - loss: 0.0346 - accuracy: 0.9896 - val_loss: 0.0260 - val_accuracy: 0.9925 - lr: 0.0010\n",
      "Epoch 37/500\n",
      "263/263 [==============================] - 2s 6ms/step - loss: 0.0332 - accuracy: 0.9898 - val_loss: 0.0282 - val_accuracy: 0.9929 - lr: 0.0010\n",
      "Epoch 38/500\n",
      "263/263 [==============================] - 2s 6ms/step - loss: 0.0343 - accuracy: 0.9892 - val_loss: 0.0340 - val_accuracy: 0.9906 - lr: 0.0010\n",
      "Epoch 39/500\n",
      "263/263 [==============================] - 2s 6ms/step - loss: 0.0327 - accuracy: 0.9895 - val_loss: 0.0268 - val_accuracy: 0.9929 - lr: 0.0010\n",
      "Epoch 40/500\n",
      "263/263 [==============================] - 1s 6ms/step - loss: 0.0334 - accuracy: 0.9894 - val_loss: 0.0277 - val_accuracy: 0.9926 - lr: 0.0010\n",
      "Epoch 41/500\n",
      "263/263 [==============================] - 1s 6ms/step - loss: 0.0319 - accuracy: 0.9898 - val_loss: 0.0274 - val_accuracy: 0.9920 - lr: 0.0010\n",
      "Epoch 42/500\n",
      "263/263 [==============================] - 1s 6ms/step - loss: 0.0321 - accuracy: 0.9903 - val_loss: 0.0280 - val_accuracy: 0.9918 - lr: 0.0010\n",
      "Epoch 43/500\n",
      "263/263 [==============================] - 1s 6ms/step - loss: 0.0307 - accuracy: 0.9907 - val_loss: 0.0293 - val_accuracy: 0.9921 - lr: 0.0010\n",
      "Epoch 44/500\n",
      "263/263 [==============================] - 1s 6ms/step - loss: 0.0322 - accuracy: 0.9902 - val_loss: 0.0285 - val_accuracy: 0.9924 - lr: 0.0010\n",
      "Epoch 45/500\n",
      "263/263 [==============================] - 1s 6ms/step - loss: 0.0310 - accuracy: 0.9901 - val_loss: 0.0288 - val_accuracy: 0.9923 - lr: 0.0010\n",
      "Epoch 46/500\n",
      "263/263 [==============================] - 1s 6ms/step - loss: 0.0312 - accuracy: 0.9906 - val_loss: 0.0287 - val_accuracy: 0.9912 - lr: 0.0010\n",
      "Epoch 47/500\n",
      "263/263 [==============================] - 1s 6ms/step - loss: 0.0287 - accuracy: 0.9916 - val_loss: 0.0330 - val_accuracy: 0.9915 - lr: 0.0010\n",
      "Epoch 48/500\n",
      "263/263 [==============================] - 1s 6ms/step - loss: 0.0286 - accuracy: 0.9914 - val_loss: 0.0305 - val_accuracy: 0.9920 - lr: 0.0010\n",
      "Epoch 49/500\n",
      "263/263 [==============================] - 1s 6ms/step - loss: 0.0304 - accuracy: 0.9908 - val_loss: 0.0310 - val_accuracy: 0.9920 - lr: 0.0010\n",
      "Epoch 50/500\n",
      "263/263 [==============================] - 1s 6ms/step - loss: 0.0290 - accuracy: 0.9912 - val_loss: 0.0310 - val_accuracy: 0.9923 - lr: 0.0010\n",
      "Epoch 51/500\n",
      "263/263 [==============================] - 2s 6ms/step - loss: 0.0274 - accuracy: 0.9911 - val_loss: 0.0273 - val_accuracy: 0.9930 - lr: 0.0010\n",
      "Epoch 52/500\n",
      "263/263 [==============================] - 1s 6ms/step - loss: 0.0278 - accuracy: 0.9912 - val_loss: 0.0275 - val_accuracy: 0.9929 - lr: 0.0010\n",
      "Epoch 53/500\n"
     ]
    },
    {
     "name": "stdout",
     "output_type": "stream",
     "text": [
      "263/263 [==============================] - 1s 6ms/step - loss: 0.0293 - accuracy: 0.9912 - val_loss: 0.0307 - val_accuracy: 0.9927 - lr: 0.0010\n",
      "Epoch 54/500\n",
      "263/263 [==============================] - 1s 6ms/step - loss: 0.0284 - accuracy: 0.9912 - val_loss: 0.0265 - val_accuracy: 0.9929 - lr: 0.0010\n",
      "Epoch 55/500\n",
      "263/263 [==============================] - 1s 6ms/step - loss: 0.0274 - accuracy: 0.9914 - val_loss: 0.0275 - val_accuracy: 0.9930 - lr: 0.0010\n",
      "Epoch 56/500\n",
      "263/263 [==============================] - 1s 6ms/step - loss: 0.0254 - accuracy: 0.9913 - val_loss: 0.0318 - val_accuracy: 0.9926 - lr: 0.0010\n",
      "Epoch 56: early stopping\n"
     ]
    }
   ],
   "source": [
    "history = model.fit(X_train,y_train,epochs=500,batch_size=128,validation_split=0.2,callbacks=callbacks)"
   ]
  },
  {
   "cell_type": "code",
   "execution_count": 12,
   "id": "067a1270",
   "metadata": {},
   "outputs": [],
   "source": [
    "model = keras.models.load_model('D:\\\\ML\\\\DL Repo\\\\digit-recognizer\\\\model\\\\best_2D_CNN_model.h5')"
   ]
  },
  {
   "cell_type": "code",
   "execution_count": 13,
   "id": "a7a18250",
   "metadata": {},
   "outputs": [],
   "source": [
    "X_test = np.array(test).reshape((test.shape[0],28,28,1))\n",
    "X_test = X_test/255\n",
    "test_y = model.predict(X_test)"
   ]
  },
  {
   "cell_type": "code",
   "execution_count": 14,
   "id": "845be1d7",
   "metadata": {},
   "outputs": [],
   "source": [
    "dic = {'ImageId':[],'Label':[]}\n",
    "for i in range(len(test_y)):\n",
    "    dic['ImageId'].append(i+1)\n",
    "    dic['Label'].append(np.argmax(test_y[i]))"
   ]
  },
  {
   "cell_type": "code",
   "execution_count": 15,
   "id": "e46567f4",
   "metadata": {},
   "outputs": [
    {
     "data": {
      "text/html": [
       "<div>\n",
       "<style scoped>\n",
       "    .dataframe tbody tr th:only-of-type {\n",
       "        vertical-align: middle;\n",
       "    }\n",
       "\n",
       "    .dataframe tbody tr th {\n",
       "        vertical-align: top;\n",
       "    }\n",
       "\n",
       "    .dataframe thead th {\n",
       "        text-align: right;\n",
       "    }\n",
       "</style>\n",
       "<table border=\"1\" class=\"dataframe\">\n",
       "  <thead>\n",
       "    <tr style=\"text-align: right;\">\n",
       "      <th></th>\n",
       "      <th>ImageId</th>\n",
       "      <th>Label</th>\n",
       "    </tr>\n",
       "  </thead>\n",
       "  <tbody>\n",
       "    <tr>\n",
       "      <th>0</th>\n",
       "      <td>1</td>\n",
       "      <td>2</td>\n",
       "    </tr>\n",
       "    <tr>\n",
       "      <th>1</th>\n",
       "      <td>2</td>\n",
       "      <td>0</td>\n",
       "    </tr>\n",
       "    <tr>\n",
       "      <th>2</th>\n",
       "      <td>3</td>\n",
       "      <td>9</td>\n",
       "    </tr>\n",
       "    <tr>\n",
       "      <th>3</th>\n",
       "      <td>4</td>\n",
       "      <td>0</td>\n",
       "    </tr>\n",
       "    <tr>\n",
       "      <th>4</th>\n",
       "      <td>5</td>\n",
       "      <td>3</td>\n",
       "    </tr>\n",
       "  </tbody>\n",
       "</table>\n",
       "</div>"
      ],
      "text/plain": [
       "   ImageId  Label\n",
       "0        1      2\n",
       "1        2      0\n",
       "2        3      9\n",
       "3        4      0\n",
       "4        5      3"
      ]
     },
     "execution_count": 15,
     "metadata": {},
     "output_type": "execute_result"
    }
   ],
   "source": [
    "test_df = pd.DataFrame.from_dict(dic)\n",
    "test_df.head()"
   ]
  },
  {
   "cell_type": "code",
   "execution_count": 16,
   "id": "7700e60b",
   "metadata": {},
   "outputs": [],
   "source": [
    "test_df.to_csv('D:\\\\ML\\\\DL Repo\\\\digit-recognizer\\\\Out\\\\my_submission_file_2D_CNN.csv', index=False)"
   ]
  },
  {
   "cell_type": "code",
   "execution_count": 17,
   "id": "961f7a94",
   "metadata": {},
   "outputs": [
    {
     "data": {
      "image/png": "[encoded data removed]",
      "text/plain": [
       "<Figure size 432x288 with 1 Axes>"
      ]
     },
     "metadata": {
      "needs_background": "light"
     },
     "output_type": "display_data"
    }
   ],
   "source": [
    "metric = \"accuracy\"\n",
    "plt.figure()\n",
    "plt.plot(history.history[metric])\n",
    "plt.plot(history.history[\"val_\" + metric])\n",
    "plt.title(\"model \" + metric)\n",
    "plt.ylabel(metric, fontsize=\"large\")\n",
    "plt.xlabel(\"epoch\", fontsize=\"large\")\n",
    "plt.legend([\"train\", \"val\"], loc=\"best\")\n",
    "plt.show()\n",
    "plt.close()"
   ]
  },
  {
   "cell_type": "code",
   "execution_count": 18,
   "id": "9048f030",
   "metadata": {},
   "outputs": [
    {
     "name": "stdout",
     "output_type": "stream",
     "text": [
      "Model: \"model\"\n",
      "_________________________________________________________________\n",
      " Layer (type)                Output Shape              Param #   \n",
      "=================================================================\n",
      " input_1 (InputLayer)        [(None, 28, 28, 1)]       0         \n",
      "                                                                 \n",
      " conv2d (Conv2D)             (None, 28, 28, 64)        576       \n",
      "                                                                 \n",
      " batch_normalization (BatchN  (None, 28, 28, 64)       256       \n",
      " ormalization)                                                   \n",
      "                                                                 \n",
      " activation (Activation)     (None, 28, 28, 64)        0         \n",
      "                                                                 \n",
      " max_pooling2d (MaxPooling2D  (None, 9, 9, 64)         0         \n",
      " )                                                               \n",
      "                                                                 \n",
      " dropout (Dropout)           (None, 9, 9, 64)          0         \n",
      "                                                                 \n",
      " conv2d_1 (Conv2D)           (None, 9, 9, 64)          36864     \n",
      "                                                                 \n",
      " batch_normalization_1 (Batc  (None, 9, 9, 64)         256       \n",
      " hNormalization)                                                 \n",
      "                                                                 \n",
      " activation_1 (Activation)   (None, 9, 9, 64)          0         \n",
      "                                                                 \n",
      " max_pooling2d_1 (MaxPooling  (None, 3, 3, 64)         0         \n",
      " 2D)                                                             \n",
      "                                                                 \n",
      " dropout_1 (Dropout)         (None, 3, 3, 64)          0         \n",
      "                                                                 \n",
      " conv2d_2 (Conv2D)           (None, 3, 3, 64)          36864     \n",
      "                                                                 \n",
      " batch_normalization_2 (Batc  (None, 3, 3, 64)         256       \n",
      " hNormalization)                                                 \n",
      "                                                                 \n",
      " activation_2 (Activation)   (None, 3, 3, 64)          0         \n",
      "                                                                 \n",
      " max_pooling2d_2 (MaxPooling  (None, 1, 1, 64)         0         \n",
      " 2D)                                                             \n",
      "                                                                 \n",
      " flatten (Flatten)           (None, 64)                0         \n",
      "                                                                 \n",
      " dropout_2 (Dropout)         (None, 64)                0         \n",
      "                                                                 \n",
      " dense (Dense)               (None, 10)                650       \n",
      "                                                                 \n",
      "=================================================================\n",
      "Total params: 75,722\n",
      "Trainable params: 75,338\n",
      "Non-trainable params: 384\n",
      "_________________________________________________________________\n"
     ]
    }
   ],
   "source": [
    "model.summary()"
   ]
  },
  {
   "cell_type": "code",
   "execution_count": 19,
   "id": "ce1bcbf9",
   "metadata": {},
   "outputs": [],
   "source": [
    "history_pd = pd.DataFrame(history.history)"
   ]
  },
  {
   "cell_type": "code",
   "execution_count": 20,
   "id": "00560ddd",
   "metadata": {},
   "outputs": [],
   "source": [
    "history_pd.to_csv('D:\\\\ML\\\\DL Repo\\\\digit-recognizer\\\\model\\\\Saved training data\\\\2D_CNN_model_history.csv')"
   ]
  },
  {
   "cell_type": "code",
   "execution_count": 21,
   "id": "2f83f8b4",
   "metadata": {},
   "outputs": [],
   "source": [
    "with open('D:\\\\ML\\\\DL Repo\\\\digit-recognizer\\\\model\\\\Saved summary\\\\2D_CNN_model_summary.txt','w') as f:\n",
    "    f.write('```')"
   ]
  },
  {
   "cell_type": "code",
   "execution_count": 22,
   "id": "02365bac",
   "metadata": {},
   "outputs": [],
   "source": [
    "def myprint(s):\n",
    "    with open('D:\\\\ML\\\\DL Repo\\\\digit-recognizer\\\\model\\\\Saved summary\\\\2D_CNN_model_summary.txt','a') as f:\n",
    "        print(s, file=f)\n",
    "   # with open('D:\\\\ML\\\\DL Repo\\\\digit-recognizer\\\\model\\\\Saved summary\\\\1D_CNN_model_summary.txt','a') as f:\n",
    "        #f.write('```')\n",
    "model.summary(print_fn = myprint)"
   ]
  },
  {
   "cell_type": "code",
   "execution_count": 23,
   "id": "edfa4d4b",
   "metadata": {},
   "outputs": [],
   "source": [
    "with open('D:\\\\ML\\\\DL Repo\\\\digit-recognizer\\\\model\\\\Saved summary\\\\2D_CNN_model_summary.txt','a') as f:\n",
    "    f.write('```')"
   ]
  },
  {
   "cell_type": "code",
   "execution_count": null,
   "id": "479243c2",
   "metadata": {},
   "outputs": [],
   "source": []
  }
 ],
 "metadata": {
  "kernelspec": {
   "display_name": "Python 3 (ipykernel)",
   "language": "python",
   "name": "python3"
  },
  "language_info": {
   "codemirror_mode": {
    "name": "ipython",
    "version": 3
   },
   "file_extension": ".py",
   "mimetype": "text/x-python",
   "name": "python",
   "nbconvert_exporter": "python",
   "pygments_lexer": "ipython3",
   "version": "3.10.4"
  }
 },
 "nbformat": 4,
 "nbformat_minor": 5
}
