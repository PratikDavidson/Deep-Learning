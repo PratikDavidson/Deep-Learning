{
 "cells": [
  {
   "cell_type": "code",
   "execution_count": 1,
   "id": "4cfdd606",
   "metadata": {},
   "outputs": [],
   "source": [
    "import numpy as np\n",
    "import pandas as pd\n",
    "import matplotlib.pyplot as plt\n",
    "import seaborn as sns\n",
    "import tensorflow as tf"
   ]
  },
  {
   "cell_type": "code",
   "execution_count": 2,
   "id": "e0ff4cdb",
   "metadata": {},
   "outputs": [],
   "source": [
    "import keras\n",
    "from keras.models import Sequential,Model\n",
    "from keras.layers import Activation,Add,Dense,Conv1D,MaxPooling1D,AveragePooling1D,Flatten,GlobalMaxPooling1D,Dropout,BatchNormalization,Input,Activation,GlobalAveragePooling1D\n",
    "from tensorflow.keras import callbacks"
   ]
  },
  {
   "cell_type": "code",
   "execution_count": 3,
   "id": "abc49cba",
   "metadata": {},
   "outputs": [],
   "source": [
    "from tensorflow.keras.utils import to_categorical"
   ]
  },
  {
   "cell_type": "code",
   "execution_count": 4,
   "id": "6b9f451b",
   "metadata": {},
   "outputs": [],
   "source": [
    "from sklearn.preprocessing import StandardScaler,MinMaxScaler\n",
    "from scikeras.wrappers import KerasClassifier\n",
    "from sklearn.model_selection import KFold"
   ]
  },
  {
   "cell_type": "code",
   "execution_count": 5,
   "id": "765826bd",
   "metadata": {},
   "outputs": [],
   "source": [
    "train = pd.read_csv('D:\\\\ML\\\\DL Repo\\\\digit-recognizer\\\\Data\\\\train.csv')\n",
    "test = pd.read_csv('D:\\\\ML\\\\DL Repo\\\\digit-recognizer\\\\Data\\\\test.csv')"
   ]
  },
  {
   "cell_type": "code",
   "execution_count": 6,
   "id": "cd32cf55",
   "metadata": {},
   "outputs": [
    {
     "data": {
      "text/html": [
       "<div>\n",
       "<style scoped>\n",
       "    .dataframe tbody tr th:only-of-type {\n",
       "        vertical-align: middle;\n",
       "    }\n",
       "\n",
       "    .dataframe tbody tr th {\n",
       "        vertical-align: top;\n",
       "    }\n",
       "\n",
       "    .dataframe thead th {\n",
       "        text-align: right;\n",
       "    }\n",
       "</style>\n",
       "<table border=\"1\" class=\"dataframe\">\n",
       "  <thead>\n",
       "    <tr style=\"text-align: right;\">\n",
       "      <th></th>\n",
       "      <th>label</th>\n",
       "      <th>pixel0</th>\n",
       "      <th>pixel1</th>\n",
       "      <th>pixel2</th>\n",
       "      <th>pixel3</th>\n",
       "      <th>pixel4</th>\n",
       "      <th>pixel5</th>\n",
       "      <th>pixel6</th>\n",
       "      <th>pixel7</th>\n",
       "      <th>pixel8</th>\n",
       "      <th>...</th>\n",
       "      <th>pixel774</th>\n",
       "      <th>pixel775</th>\n",
       "      <th>pixel776</th>\n",
       "      <th>pixel777</th>\n",
       "      <th>pixel778</th>\n",
       "      <th>pixel779</th>\n",
       "      <th>pixel780</th>\n",
       "      <th>pixel781</th>\n",
       "      <th>pixel782</th>\n",
       "      <th>pixel783</th>\n",
       "    </tr>\n",
       "  </thead>\n",
       "  <tbody>\n",
       "    <tr>\n",
       "      <th>0</th>\n",
       "      <td>1</td>\n",
       "      <td>0</td>\n",
       "      <td>0</td>\n",
       "      <td>0</td>\n",
       "      <td>0</td>\n",
       "      <td>0</td>\n",
       "      <td>0</td>\n",
       "      <td>0</td>\n",
       "      <td>0</td>\n",
       "      <td>0</td>\n",
       "      <td>...</td>\n",
       "      <td>0</td>\n",
       "      <td>0</td>\n",
       "      <td>0</td>\n",
       "      <td>0</td>\n",
       "      <td>0</td>\n",
       "      <td>0</td>\n",
       "      <td>0</td>\n",
       "      <td>0</td>\n",
       "      <td>0</td>\n",
       "      <td>0</td>\n",
       "    </tr>\n",
       "    <tr>\n",
       "      <th>1</th>\n",
       "      <td>0</td>\n",
       "      <td>0</td>\n",
       "      <td>0</td>\n",
       "      <td>0</td>\n",
       "      <td>0</td>\n",
       "      <td>0</td>\n",
       "      <td>0</td>\n",
       "      <td>0</td>\n",
       "      <td>0</td>\n",
       "      <td>0</td>\n",
       "      <td>...</td>\n",
       "      <td>0</td>\n",
       "      <td>0</td>\n",
       "      <td>0</td>\n",
       "      <td>0</td>\n",
       "      <td>0</td>\n",
       "      <td>0</td>\n",
       "      <td>0</td>\n",
       "      <td>0</td>\n",
       "      <td>0</td>\n",
       "      <td>0</td>\n",
       "    </tr>\n",
       "    <tr>\n",
       "      <th>2</th>\n",
       "      <td>1</td>\n",
       "      <td>0</td>\n",
       "      <td>0</td>\n",
       "      <td>0</td>\n",
       "      <td>0</td>\n",
       "      <td>0</td>\n",
       "      <td>0</td>\n",
       "      <td>0</td>\n",
       "      <td>0</td>\n",
       "      <td>0</td>\n",
       "      <td>...</td>\n",
       "      <td>0</td>\n",
       "      <td>0</td>\n",
       "      <td>0</td>\n",
       "      <td>0</td>\n",
       "      <td>0</td>\n",
       "      <td>0</td>\n",
       "      <td>0</td>\n",
       "      <td>0</td>\n",
       "      <td>0</td>\n",
       "      <td>0</td>\n",
       "    </tr>\n",
       "    <tr>\n",
       "      <th>3</th>\n",
       "      <td>4</td>\n",
       "      <td>0</td>\n",
       "      <td>0</td>\n",
       "      <td>0</td>\n",
       "      <td>0</td>\n",
       "      <td>0</td>\n",
       "      <td>0</td>\n",
       "      <td>0</td>\n",
       "      <td>0</td>\n",
       "      <td>0</td>\n",
       "      <td>...</td>\n",
       "      <td>0</td>\n",
       "      <td>0</td>\n",
       "      <td>0</td>\n",
       "      <td>0</td>\n",
       "      <td>0</td>\n",
       "      <td>0</td>\n",
       "      <td>0</td>\n",
       "      <td>0</td>\n",
       "      <td>0</td>\n",
       "      <td>0</td>\n",
       "    </tr>\n",
       "    <tr>\n",
       "      <th>4</th>\n",
       "      <td>0</td>\n",
       "      <td>0</td>\n",
       "      <td>0</td>\n",
       "      <td>0</td>\n",
       "      <td>0</td>\n",
       "      <td>0</td>\n",
       "      <td>0</td>\n",
       "      <td>0</td>\n",
       "      <td>0</td>\n",
       "      <td>0</td>\n",
       "      <td>...</td>\n",
       "      <td>0</td>\n",
       "      <td>0</td>\n",
       "      <td>0</td>\n",
       "      <td>0</td>\n",
       "      <td>0</td>\n",
       "      <td>0</td>\n",
       "      <td>0</td>\n",
       "      <td>0</td>\n",
       "      <td>0</td>\n",
       "      <td>0</td>\n",
       "    </tr>\n",
       "  </tbody>\n",
       "</table>\n",
       "<p>5 rows × 785 columns</p>\n",
       "</div>"
      ],
      "text/plain": [
       "   label  pixel0  pixel1  pixel2  pixel3  pixel4  pixel5  pixel6  pixel7  \\\n",
       "0      1       0       0       0       0       0       0       0       0   \n",
       "1      0       0       0       0       0       0       0       0       0   \n",
       "2      1       0       0       0       0       0       0       0       0   \n",
       "3      4       0       0       0       0       0       0       0       0   \n",
       "4      0       0       0       0       0       0       0       0       0   \n",
       "\n",
       "   pixel8  ...  pixel774  pixel775  pixel776  pixel777  pixel778  pixel779  \\\n",
       "0       0  ...         0         0         0         0         0         0   \n",
       "1       0  ...         0         0         0         0         0         0   \n",
       "2       0  ...         0         0         0         0         0         0   \n",
       "3       0  ...         0         0         0         0         0         0   \n",
       "4       0  ...         0         0         0         0         0         0   \n",
       "\n",
       "   pixel780  pixel781  pixel782  pixel783  \n",
       "0         0         0         0         0  \n",
       "1         0         0         0         0  \n",
       "2         0         0         0         0  \n",
       "3         0         0         0         0  \n",
       "4         0         0         0         0  \n",
       "\n",
       "[5 rows x 785 columns]"
      ]
     },
     "execution_count": 6,
     "metadata": {},
     "output_type": "execute_result"
    }
   ],
   "source": [
    "train.head()"
   ]
  },
  {
   "cell_type": "code",
   "execution_count": 7,
   "id": "0715651e",
   "metadata": {},
   "outputs": [],
   "source": [
    "X = np.array(train[train.columns[1:]])\n",
    "y = train['label']"
   ]
  },
  {
   "cell_type": "code",
   "execution_count": 8,
   "id": "e44e6adf",
   "metadata": {},
   "outputs": [
    {
     "data": {
      "text/plain": [
       "(42000, 10)"
      ]
     },
     "execution_count": 8,
     "metadata": {},
     "output_type": "execute_result"
    }
   ],
   "source": [
    "y = to_categorical(y)\n",
    "y.shape"
   ]
  },
  {
   "cell_type": "code",
   "execution_count": 9,
   "id": "35aca220",
   "metadata": {},
   "outputs": [
    {
     "data": {
      "text/plain": [
       "(42000, 784)"
      ]
     },
     "execution_count": 9,
     "metadata": {},
     "output_type": "execute_result"
    }
   ],
   "source": [
    "X.shape"
   ]
  },
  {
   "cell_type": "code",
   "execution_count": 10,
   "id": "fc311c35",
   "metadata": {},
   "outputs": [],
   "source": [
    "model = Sequential()\n",
    "model.add(Input((784,)))\n",
    "model.add(BatchNormalization())\n",
    "model.add(Dense(512))\n",
    "model.add(BatchNormalization())\n",
    "model.add(Activation('relu'))\n",
    "model.add(Dense(128))\n",
    "model.add(BatchNormalization())\n",
    "model.add(Activation('relu'))\n",
    "model.add(Dense(64))\n",
    "model.add(BatchNormalization())\n",
    "model.add(Activation('relu'))\n",
    "model.add(Dense(10,activation='softmax'))"
   ]
  },
  {
   "cell_type": "code",
   "execution_count": 11,
   "id": "1122f05a",
   "metadata": {},
   "outputs": [],
   "source": [
    "model.compile(loss='categorical_crossentropy',optimizer='adam',metrics=['accuracy'])"
   ]
  },
  {
   "cell_type": "code",
   "execution_count": 12,
   "id": "03696ab0",
   "metadata": {},
   "outputs": [],
   "source": [
    "callbacks = [callbacks.ModelCheckpoint(\"D:\\\\ML\\\\DL Repo\\\\digit-recognizer\\\\model\\\\best_FCNN_model.h5\", save_best_only=True, monitor=\"val_loss\"),\n",
    "             callbacks.ReduceLROnPlateau(monitor=\"val_loss\", factor=0.5, patience=20, min_lr=0.0001),\n",
    "             callbacks.EarlyStopping(monitor=\"val_loss\", patience=20, verbose=1)]"
   ]
  },
  {
   "cell_type": "code",
   "execution_count": 13,
   "id": "0b7bdebf",
   "metadata": {},
   "outputs": [
    {
     "name": "stdout",
     "output_type": "stream",
     "text": [
      "Epoch 1/500\n",
      "263/263 [==============================] - 3s 7ms/step - loss: 0.3091 - accuracy: 0.9172 - val_loss: 0.1941 - val_accuracy: 0.9494 - lr: 0.0010\n",
      "Epoch 2/500\n",
      "263/263 [==============================] - 2s 7ms/step - loss: 0.0995 - accuracy: 0.9714 - val_loss: 0.1543 - val_accuracy: 0.9596 - lr: 0.0010\n",
      "Epoch 3/500\n",
      "263/263 [==============================] - 2s 7ms/step - loss: 0.0589 - accuracy: 0.9824 - val_loss: 0.1535 - val_accuracy: 0.9651 - lr: 0.0010\n",
      "Epoch 4/500\n",
      "263/263 [==============================] - 1s 5ms/step - loss: 0.0448 - accuracy: 0.9862 - val_loss: 0.1820 - val_accuracy: 0.9637 - lr: 0.0010\n",
      "Epoch 5/500\n",
      "263/263 [==============================] - 1s 5ms/step - loss: 0.0286 - accuracy: 0.9918 - val_loss: 0.1743 - val_accuracy: 0.9693 - lr: 0.0010\n",
      "Epoch 6/500\n",
      "263/263 [==============================] - 1s 5ms/step - loss: 0.0239 - accuracy: 0.9931 - val_loss: 0.1899 - val_accuracy: 0.9673 - lr: 0.0010\n",
      "Epoch 7/500\n",
      "263/263 [==============================] - 1s 5ms/step - loss: 0.0202 - accuracy: 0.9942 - val_loss: 0.1873 - val_accuracy: 0.9696 - lr: 0.0010\n",
      "Epoch 8/500\n",
      "263/263 [==============================] - 1s 5ms/step - loss: 0.0197 - accuracy: 0.9935 - val_loss: 0.1845 - val_accuracy: 0.9694 - lr: 0.0010\n",
      "Epoch 9/500\n",
      "263/263 [==============================] - 1s 5ms/step - loss: 0.0126 - accuracy: 0.9963 - val_loss: 0.1978 - val_accuracy: 0.9708 - lr: 0.0010\n",
      "Epoch 10/500\n",
      "263/263 [==============================] - 1s 5ms/step - loss: 0.0158 - accuracy: 0.9948 - val_loss: 0.1975 - val_accuracy: 0.9682 - lr: 0.0010\n",
      "Epoch 11/500\n",
      "263/263 [==============================] - 1s 5ms/step - loss: 0.0161 - accuracy: 0.9949 - val_loss: 0.1849 - val_accuracy: 0.9689 - lr: 0.0010\n",
      "Epoch 12/500\n",
      "263/263 [==============================] - 1s 5ms/step - loss: 0.0136 - accuracy: 0.9959 - val_loss: 0.1890 - val_accuracy: 0.9698 - lr: 0.0010\n",
      "Epoch 13/500\n",
      "263/263 [==============================] - 1s 5ms/step - loss: 0.0124 - accuracy: 0.9962 - val_loss: 0.1951 - val_accuracy: 0.9719 - lr: 0.0010\n",
      "Epoch 14/500\n",
      "263/263 [==============================] - 1s 5ms/step - loss: 0.0077 - accuracy: 0.9977 - val_loss: 0.2093 - val_accuracy: 0.9726 - lr: 0.0010\n",
      "Epoch 15/500\n",
      "263/263 [==============================] - 1s 5ms/step - loss: 0.0087 - accuracy: 0.9976 - val_loss: 0.1958 - val_accuracy: 0.9721 - lr: 0.0010\n",
      "Epoch 16/500\n",
      "263/263 [==============================] - 1s 5ms/step - loss: 0.0087 - accuracy: 0.9973 - val_loss: 0.2091 - val_accuracy: 0.9715 - lr: 0.0010\n",
      "Epoch 17/500\n",
      "263/263 [==============================] - 1s 5ms/step - loss: 0.0099 - accuracy: 0.9972 - val_loss: 0.2446 - val_accuracy: 0.9707 - lr: 0.0010\n",
      "Epoch 18/500\n",
      "263/263 [==============================] - 1s 5ms/step - loss: 0.0091 - accuracy: 0.9971 - val_loss: 0.2216 - val_accuracy: 0.9731 - lr: 0.0010\n",
      "Epoch 19/500\n",
      "263/263 [==============================] - 1s 5ms/step - loss: 0.0101 - accuracy: 0.9968 - val_loss: 0.2315 - val_accuracy: 0.9724 - lr: 0.0010\n",
      "Epoch 20/500\n",
      "263/263 [==============================] - 1s 5ms/step - loss: 0.0106 - accuracy: 0.9968 - val_loss: 0.2147 - val_accuracy: 0.9710 - lr: 0.0010\n",
      "Epoch 21/500\n",
      "263/263 [==============================] - 1s 5ms/step - loss: 0.0081 - accuracy: 0.9975 - val_loss: 0.2363 - val_accuracy: 0.9736 - lr: 0.0010\n",
      "Epoch 22/500\n",
      "263/263 [==============================] - 1s 5ms/step - loss: 0.0079 - accuracy: 0.9973 - val_loss: 0.2609 - val_accuracy: 0.9711 - lr: 0.0010\n",
      "Epoch 23/500\n",
      "263/263 [==============================] - 1s 5ms/step - loss: 0.0059 - accuracy: 0.9980 - val_loss: 0.2360 - val_accuracy: 0.9715 - lr: 0.0010\n",
      "Epoch 23: early stopping\n"
     ]
    }
   ],
   "source": [
    "history = model.fit(X,y,epochs=500,batch_size=128,validation_split=0.2,callbacks=callbacks)"
   ]
  },
  {
   "cell_type": "code",
   "execution_count": 12,
   "id": "726d3951",
   "metadata": {},
   "outputs": [],
   "source": [
    "clf = KerasClassifier(model)"
   ]
  },
  {
   "cell_type": "code",
   "execution_count": 13,
   "id": "57a2deca",
   "metadata": {},
   "outputs": [],
   "source": [
    "cv = KFold(n_splits=10,random_state=42,shuffle=True)"
   ]
  },
  {
   "cell_type": "code",
   "execution_count": 14,
   "id": "dc5cf79b",
   "metadata": {},
   "outputs": [
    {
     "name": "stdout",
     "output_type": "stream",
     "text": [
      "Epoch 1/3\n",
      "1182/1182 [==============================] - 9s 4ms/step - loss: 0.2689 - acc: 0.9216\n",
      "Epoch 2/3\n",
      "1182/1182 [==============================] - 5s 4ms/step - loss: 0.1305 - acc: 0.9602\n",
      "Epoch 3/3\n",
      "1182/1182 [==============================] - 5s 4ms/step - loss: 0.0957 - acc: 0.9702\n",
      "132/132 [==============================] - 0s 1ms/step\n",
      "0.9654761904761905\n",
      "Epoch 1/3\n",
      "1182/1182 [==============================] - 5s 4ms/step - loss: 0.0812 - acc: 0.9740\n",
      "Epoch 2/3\n",
      "1182/1182 [==============================] - 5s 4ms/step - loss: 0.0632 - acc: 0.9796\n",
      "Epoch 3/3\n",
      "1182/1182 [==============================] - 5s 4ms/step - loss: 0.0535 - acc: 0.9829\n",
      "132/132 [==============================] - 0s 1ms/step\n",
      "0.9802380952380952\n",
      "Epoch 1/3\n",
      "1182/1182 [==============================] - 5s 4ms/step - loss: 0.0513 - acc: 0.9827\n",
      "Epoch 2/3\n",
      "1182/1182 [==============================] - 5s 4ms/step - loss: 0.0429 - acc: 0.9856\n",
      "Epoch 3/3\n",
      "1182/1182 [==============================] - 5s 4ms/step - loss: 0.0360 - acc: 0.9880\n",
      "132/132 [==============================] - 0s 1ms/step\n",
      "0.9823809523809524\n",
      "Epoch 1/3\n",
      "1182/1182 [==============================] - 5s 4ms/step - loss: 0.0383 - acc: 0.9871\n",
      "Epoch 2/3\n",
      "1182/1182 [==============================] - 5s 4ms/step - loss: 0.0285 - acc: 0.9908\n",
      "Epoch 3/3\n",
      "1182/1182 [==============================] - 5s 4ms/step - loss: 0.0301 - acc: 0.9896\n",
      "132/132 [==============================] - 0s 1ms/step\n",
      "0.9871428571428571\n",
      "Epoch 1/3\n",
      "1182/1182 [==============================] - 5s 4ms/step - loss: 0.0289 - acc: 0.9898\n",
      "Epoch 2/3\n",
      "1182/1182 [==============================] - 5s 4ms/step - loss: 0.0240 - acc: 0.9921\n",
      "Epoch 3/3\n",
      "1182/1182 [==============================] - 5s 4ms/step - loss: 0.0223 - acc: 0.9929\n",
      "132/132 [==============================] - 0s 1ms/step\n",
      "0.9833333333333333\n",
      "Epoch 1/3\n",
      "1182/1182 [==============================] - 5s 4ms/step - loss: 0.0219 - acc: 0.9928\n",
      "Epoch 2/3\n",
      "1182/1182 [==============================] - 5s 4ms/step - loss: 0.0218 - acc: 0.9929\n",
      "Epoch 3/3\n",
      "1182/1182 [==============================] - 5s 4ms/step - loss: 0.0212 - acc: 0.9930\n",
      "132/132 [==============================] - 0s 1ms/step\n",
      "0.9873809523809524\n",
      "Epoch 1/3\n",
      "1182/1182 [==============================] - 5s 4ms/step - loss: 0.0213 - acc: 0.9925\n",
      "Epoch 2/3\n",
      "1182/1182 [==============================] - 5s 4ms/step - loss: 0.0172 - acc: 0.9943\n",
      "Epoch 3/3\n",
      "1182/1182 [==============================] - 5s 5ms/step - loss: 0.0157 - acc: 0.9950\n",
      "132/132 [==============================] - 0s 1ms/step\n",
      "0.9878571428571429\n",
      "Epoch 1/3\n",
      "1182/1182 [==============================] - 5s 4ms/step - loss: 0.0186 - acc: 0.9937\n",
      "Epoch 2/3\n",
      "1182/1182 [==============================] - 5s 4ms/step - loss: 0.0145 - acc: 0.9949\n",
      "Epoch 3/3\n",
      "1182/1182 [==============================] - 5s 4ms/step - loss: 0.0141 - acc: 0.9951\n",
      "132/132 [==============================] - 0s 2ms/step\n",
      "0.9902380952380953\n",
      "Epoch 1/3\n",
      "1182/1182 [==============================] - 5s 4ms/step - loss: 0.0145 - acc: 0.9951\n",
      "Epoch 2/3\n",
      "1182/1182 [==============================] - 5s 4ms/step - loss: 0.0124 - acc: 0.9959\n",
      "Epoch 3/3\n",
      "1182/1182 [==============================] - 5s 4ms/step - loss: 0.0118 - acc: 0.9963\n",
      "132/132 [==============================] - 0s 1ms/step\n",
      "0.9897619047619047\n",
      "Epoch 1/3\n",
      "1182/1182 [==============================] - 5s 4ms/step - loss: 0.0158 - acc: 0.9949\n",
      "Epoch 2/3\n",
      "1182/1182 [==============================] - 5s 4ms/step - loss: 0.0153 - acc: 0.9951\n",
      "Epoch 3/3\n",
      "1182/1182 [==============================] - 5s 4ms/step - loss: 0.0108 - acc: 0.9962\n",
      "132/132 [==============================] - 0s 1ms/step\n",
      "0.9916666666666667\n"
     ]
    }
   ],
   "source": [
    "for train_index, test_index in cv.split(X, y):\n",
    "    x_train_fold, x_test_fold = X[train_index], X[test_index]\n",
    "    y_train_fold, y_test_fold = y[train_index], y[test_index]\n",
    "    clf.fit(x_train_fold, y_train_fold,epochs=3,batch_size=32)\n",
    "    print(clf.score(x_test_fold, y_test_fold))"
   ]
  },
  {
   "cell_type": "code",
   "execution_count": 14,
   "id": "98bef3c5",
   "metadata": {},
   "outputs": [],
   "source": [
    "model = keras.models.load_model('D:\\\\ML\\\\DL Repo\\\\digit-recognizer\\\\model\\\\best_FCNN_model.h5')"
   ]
  },
  {
   "cell_type": "code",
   "execution_count": 15,
   "id": "cabf9ffc",
   "metadata": {},
   "outputs": [],
   "source": [
    "test_y = model.predict(test)"
   ]
  },
  {
   "cell_type": "code",
   "execution_count": 16,
   "id": "809f07f4",
   "metadata": {},
   "outputs": [],
   "source": [
    "dic = {'ImageId':[],'Label':[]}\n",
    "for i in range(len(test_y)):\n",
    "    dic['ImageId'].append(i+1)\n",
    "    dic['Label'].append(np.argmax(test_y[i]))"
   ]
  },
  {
   "cell_type": "code",
   "execution_count": 17,
   "id": "d9e0d4a4",
   "metadata": {},
   "outputs": [
    {
     "data": {
      "text/html": [
       "<div>\n",
       "<style scoped>\n",
       "    .dataframe tbody tr th:only-of-type {\n",
       "        vertical-align: middle;\n",
       "    }\n",
       "\n",
       "    .dataframe tbody tr th {\n",
       "        vertical-align: top;\n",
       "    }\n",
       "\n",
       "    .dataframe thead th {\n",
       "        text-align: right;\n",
       "    }\n",
       "</style>\n",
       "<table border=\"1\" class=\"dataframe\">\n",
       "  <thead>\n",
       "    <tr style=\"text-align: right;\">\n",
       "      <th></th>\n",
       "      <th>ImageId</th>\n",
       "      <th>Label</th>\n",
       "    </tr>\n",
       "  </thead>\n",
       "  <tbody>\n",
       "    <tr>\n",
       "      <th>0</th>\n",
       "      <td>1</td>\n",
       "      <td>2</td>\n",
       "    </tr>\n",
       "    <tr>\n",
       "      <th>1</th>\n",
       "      <td>2</td>\n",
       "      <td>0</td>\n",
       "    </tr>\n",
       "    <tr>\n",
       "      <th>2</th>\n",
       "      <td>3</td>\n",
       "      <td>9</td>\n",
       "    </tr>\n",
       "    <tr>\n",
       "      <th>3</th>\n",
       "      <td>4</td>\n",
       "      <td>4</td>\n",
       "    </tr>\n",
       "    <tr>\n",
       "      <th>4</th>\n",
       "      <td>5</td>\n",
       "      <td>3</td>\n",
       "    </tr>\n",
       "  </tbody>\n",
       "</table>\n",
       "</div>"
      ],
      "text/plain": [
       "   ImageId  Label\n",
       "0        1      2\n",
       "1        2      0\n",
       "2        3      9\n",
       "3        4      4\n",
       "4        5      3"
      ]
     },
     "execution_count": 17,
     "metadata": {},
     "output_type": "execute_result"
    }
   ],
   "source": [
    "test_df = pd.DataFrame.from_dict(dic)\n",
    "test_df.head()"
   ]
  },
  {
   "cell_type": "code",
   "execution_count": 18,
   "id": "d47868ba",
   "metadata": {},
   "outputs": [],
   "source": [
    "test_df.to_csv('D:\\\\ML\\\\DL Repo\\\\digit-recognizer\\\\Out\\\\my_submission_file.csv', index=False)"
   ]
  },
  {
   "cell_type": "code",
   "execution_count": 19,
   "id": "47c88613",
   "metadata": {},
   "outputs": [
    {
     "data": {
      "image/png": "[encoded data removed]",
      "text/plain": [
       "<Figure size 432x288 with 1 Axes>"
      ]
     },
     "metadata": {
      "needs_background": "light"
     },
     "output_type": "display_data"
    }
   ],
   "source": [
    "metric = \"accuracy\"\n",
    "plt.figure()\n",
    "plt.plot(history.history[metric])\n",
    "plt.plot(history.history[\"val_\" + metric])\n",
    "plt.title(\"model \" + metric)\n",
    "plt.ylabel(metric, fontsize=\"large\")\n",
    "plt.xlabel(\"epoch\", fontsize=\"large\")\n",
    "plt.legend([\"train\", \"val\"], loc=\"best\")\n",
    "plt.show()\n",
    "plt.close()"
   ]
  },
  {
   "cell_type": "code",
   "execution_count": 20,
   "id": "b9d0b2e0",
   "metadata": {},
   "outputs": [
    {
     "name": "stdout",
     "output_type": "stream",
     "text": [
      "Model: \"sequential\"\n",
      "_________________________________________________________________\n",
      " Layer (type)                Output Shape              Param #   \n",
      "=================================================================\n",
      " batch_normalization (BatchN  (None, 784)              3136      \n",
      " ormalization)                                                   \n",
      "                                                                 \n",
      " dense (Dense)               (None, 512)               401920    \n",
      "                                                                 \n",
      " batch_normalization_1 (Batc  (None, 512)              2048      \n",
      " hNormalization)                                                 \n",
      "                                                                 \n",
      " activation (Activation)     (None, 512)               0         \n",
      "                                                                 \n",
      " dense_1 (Dense)             (None, 128)               65664     \n",
      "                                                                 \n",
      " batch_normalization_2 (Batc  (None, 128)              512       \n",
      " hNormalization)                                                 \n",
      "                                                                 \n",
      " activation_1 (Activation)   (None, 128)               0         \n",
      "                                                                 \n",
      " dense_2 (Dense)             (None, 64)                8256      \n",
      "                                                                 \n",
      " batch_normalization_3 (Batc  (None, 64)               256       \n",
      " hNormalization)                                                 \n",
      "                                                                 \n",
      " activation_2 (Activation)   (None, 64)                0         \n",
      "                                                                 \n",
      " dense_3 (Dense)             (None, 10)                650       \n",
      "                                                                 \n",
      "=================================================================\n",
      "Total params: 482,442\n",
      "Trainable params: 479,466\n",
      "Non-trainable params: 2,976\n",
      "_________________________________________________________________\n"
     ]
    }
   ],
   "source": [
    "model.summary()"
   ]
  },
  {
   "cell_type": "code",
   "execution_count": 21,
   "id": "f7a84466",
   "metadata": {},
   "outputs": [],
   "source": [
    "history_pd = pd.DataFrame(history.history)"
   ]
  },
  {
   "cell_type": "code",
   "execution_count": 22,
   "id": "b5597cc2",
   "metadata": {},
   "outputs": [],
   "source": [
    "history_pd.to_csv('D:\\\\ML\\\\DL Repo\\\\digit-recognizer\\\\model\\\\Saved training data\\\\FCNN_model_history.csv')"
   ]
  },
  {
   "cell_type": "code",
   "execution_count": 23,
   "id": "8cc04705",
   "metadata": {},
   "outputs": [],
   "source": [
    "with open('D:\\\\ML\\\\DL Repo\\\\digit-recognizer\\\\model\\\\Saved summary\\\\FCNN_model_summary.txt','w') as f:\n",
    "    f.write('```')"
   ]
  },
  {
   "cell_type": "code",
   "execution_count": 24,
   "id": "efa0226c",
   "metadata": {},
   "outputs": [],
   "source": [
    "def myprint(s):\n",
    "    with open('D:\\\\ML\\\\DL Repo\\\\digit-recognizer\\\\model\\\\Saved summary\\\\FCNN_model_summary.txt','a') as f:\n",
    "        print(s, file=f)\n",
    "\n",
    "model.summary(print_fn = myprint)"
   ]
  },
  {
   "cell_type": "code",
   "execution_count": 25,
   "id": "b64c49f7",
   "metadata": {},
   "outputs": [],
   "source": [
    "with open('D:\\\\ML\\\\DL Repo\\\\digit-recognizer\\\\model\\\\Saved summary\\\\FCNN_model_summary.txt','a') as f:\n",
    "    f.write('```')"
   ]
  },
  {
   "cell_type": "code",
   "execution_count": null,
   "id": "da06b085",
   "metadata": {},
   "outputs": [],
   "source": []
  }
 ],
 "metadata": {
  "kernelspec": {
   "display_name": "Python 3 (ipykernel)",
   "language": "python",
   "name": "python3"
  },
  "language_info": {
   "codemirror_mode": {
    "name": "ipython",
    "version": 3
   },
   "file_extension": ".py",
   "mimetype": "text/x-python",
   "name": "python",
   "nbconvert_exporter": "python",
   "pygments_lexer": "ipython3",
   "version": "3.10.4"
  }
 },
 "nbformat": 4,
 "nbformat_minor": 5
}
