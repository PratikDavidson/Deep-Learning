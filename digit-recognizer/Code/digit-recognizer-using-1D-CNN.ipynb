{
 "cells": [
  {
   "cell_type": "code",
   "execution_count": 3,
   "id": "dcf23a39",
   "metadata": {},
   "outputs": [],
   "source": [
    "import numpy as np\n",
    "import pandas as pd\n",
    "import matplotlib.pyplot as plt\n",
    "from keras.models import Model\n",
    "from keras.layers import Activation,Add,Dense,Conv1D,MaxPooling1D,AveragePooling1D,Flatten,GlobalMaxPooling1D,Dropout,BatchNormalization,Input,Activation,GlobalAveragePooling1D\n",
    "from keras import callbacks\n",
    "from tensorflow.keras.utils import to_categorical"
   ]
  },
  {
   "cell_type": "code",
   "execution_count": 64,
   "id": "398e75d6",
   "metadata": {},
   "outputs": [],
   "source": [
    "import tensorflow as tf\n",
    "import keras"
   ]
  },
  {
   "cell_type": "code",
   "execution_count": 50,
   "id": "0dc86966",
   "metadata": {},
   "outputs": [],
   "source": [
    "train = pd.read_csv('D:\\\\ML\\\\DL Repo\\\\digit-recognizer\\\\Data\\\\train.csv')\n",
    "test = pd.read_csv('D:\\\\ML\\\\DL Repo\\\\digit-recognizer\\\\Data\\\\test.csv')"
   ]
  },
  {
   "cell_type": "code",
   "execution_count": 51,
   "id": "fd72e00f",
   "metadata": {},
   "outputs": [],
   "source": [
    "X = np.array(train[train.columns[1:]])\n",
    "y = train['label']"
   ]
  },
  {
   "cell_type": "code",
   "execution_count": 52,
   "id": "08034131",
   "metadata": {},
   "outputs": [],
   "source": [
    "y = to_categorical(y)"
   ]
  },
  {
   "cell_type": "code",
   "execution_count": 53,
   "id": "0f72f37f",
   "metadata": {},
   "outputs": [
    {
     "data": {
      "text/plain": [
       "((42000, 784), (42000, 10))"
      ]
     },
     "execution_count": 53,
     "metadata": {},
     "output_type": "execute_result"
    }
   ],
   "source": [
    "X.shape,y.shape"
   ]
  },
  {
   "cell_type": "code",
   "execution_count": 54,
   "id": "42e680bf",
   "metadata": {},
   "outputs": [],
   "source": [
    "X = X.reshape((X.shape[0],X.shape[1],1))"
   ]
  },
  {
   "cell_type": "code",
   "execution_count": 10,
   "id": "7c4a6239",
   "metadata": {},
   "outputs": [],
   "source": [
    "X = X/255"
   ]
  },
  {
   "cell_type": "code",
   "execution_count": 11,
   "id": "1eef0044",
   "metadata": {},
   "outputs": [
    {
     "data": {
      "text/plain": [
       "dtype('float64')"
      ]
     },
     "execution_count": 11,
     "metadata": {},
     "output_type": "execute_result"
    }
   ],
   "source": [
    "X.dtype"
   ]
  },
  {
   "cell_type": "code",
   "execution_count": 58,
   "id": "5d8ec54d",
   "metadata": {},
   "outputs": [],
   "source": [
    "def make_model():    \n",
    "    input_shape = X.shape[1:]\n",
    "    num_classes = 10\n",
    "\n",
    "    input_layer = Input(input_shape)\n",
    "    input_layer = BatchNormalization()(input_layer)\n",
    "\n",
    "\n",
    "    conv1 = Conv1D(filters=64, kernel_size=3, padding=\"same\", use_bias = False)(input_layer)\n",
    "    conv1 = BatchNormalization()(conv1)\n",
    "    conv1 = Activation('relu')(conv1)\n",
    "    \n",
    "    conv2 = Conv1D(filters=64, kernel_size=3, padding=\"same\", use_bias = False)(conv1)\n",
    "    conv2 = BatchNormalization()(conv2)\n",
    "    conv2 = Activation('relu')(conv2)\n",
    "    \n",
    "    conv3 = Conv1D(filters=64, kernel_size=3, padding=\"same\", use_bias = False)(conv2)\n",
    "    conv3 = BatchNormalization()(conv3)\n",
    "    conv3 = Activation('relu')(conv3)\n",
    "\n",
    "    gap = AveragePooling1D()(conv3)\n",
    "    gap = Flatten()(gap)\n",
    "    gap = Dropout(0.5)(gap)\n",
    "\n",
    "    output_layer = Dense(num_classes, activation=\"softmax\")(gap)\n",
    "\n",
    "    return Model(inputs=input_layer, outputs=output_layer)\n",
    "\n",
    "\n",
    "model = make_model()"
   ]
  },
  {
   "cell_type": "code",
   "execution_count": 59,
   "id": "b6d42679",
   "metadata": {},
   "outputs": [],
   "source": [
    "model.compile(loss='categorical_crossentropy',optimizer='adam',metrics=['accuracy'])"
   ]
  },
  {
   "cell_type": "code",
   "execution_count": 14,
   "id": "0417939e",
   "metadata": {},
   "outputs": [],
   "source": [
    "callbacks = [callbacks.ModelCheckpoint(\"D:\\\\ML\\\\DL Repo\\\\digit-recognizer\\\\model\\\\best_1D_CNN_model.h5\", save_best_only=True, monitor=\"val_loss\"),\n",
    "             callbacks.ReduceLROnPlateau(monitor=\"val_loss\", factor=0.5, patience=20, min_lr=0.0001),\n",
    "             callbacks.EarlyStopping(monitor=\"val_loss\", patience=20, verbose=1)]"
   ]
  },
  {
   "cell_type": "code",
   "execution_count": 60,
   "id": "7cee4439",
   "metadata": {},
   "outputs": [
    {
     "name": "stdout",
     "output_type": "stream",
     "text": [
      "Epoch 1/500\n",
      "263/263 [==============================] - 7s 22ms/step - loss: 0.3559 - accuracy: 0.9021 - val_loss: 0.4625 - val_accuracy: 0.8777 - lr: 0.0010\n",
      "Epoch 2/500\n",
      "263/263 [==============================] - 6s 21ms/step - loss: 0.1729 - accuracy: 0.9482 - val_loss: 0.2262 - val_accuracy: 0.9363 - lr: 0.0010\n",
      "Epoch 3/500\n",
      "263/263 [==============================] - 6s 21ms/step - loss: 0.1263 - accuracy: 0.9612 - val_loss: 0.1384 - val_accuracy: 0.9592 - lr: 0.0010\n",
      "Epoch 4/500\n",
      "263/263 [==============================] - 6s 21ms/step - loss: 0.1118 - accuracy: 0.9654 - val_loss: 0.1342 - val_accuracy: 0.9623 - lr: 0.0010\n",
      "Epoch 5/500\n",
      "263/263 [==============================] - 6s 21ms/step - loss: 0.0852 - accuracy: 0.9725 - val_loss: 0.1121 - val_accuracy: 0.9681 - lr: 0.0010\n",
      "Epoch 6/500\n",
      "263/263 [==============================] - 6s 21ms/step - loss: 0.0773 - accuracy: 0.9753 - val_loss: 0.1210 - val_accuracy: 0.9662 - lr: 0.0010\n",
      "Epoch 7/500\n",
      "263/263 [==============================] - 6s 21ms/step - loss: 0.0658 - accuracy: 0.9782 - val_loss: 0.1129 - val_accuracy: 0.9698 - lr: 0.0010\n",
      "Epoch 8/500\n",
      "263/263 [==============================] - 6s 21ms/step - loss: 0.0589 - accuracy: 0.9807 - val_loss: 0.1393 - val_accuracy: 0.9625 - lr: 0.0010\n",
      "Epoch 9/500\n",
      "263/263 [==============================] - 6s 21ms/step - loss: 0.0550 - accuracy: 0.9807 - val_loss: 0.1374 - val_accuracy: 0.9639 - lr: 0.0010\n",
      "Epoch 10/500\n",
      "263/263 [==============================] - 6s 21ms/step - loss: 0.0531 - accuracy: 0.9817 - val_loss: 0.1265 - val_accuracy: 0.9677 - lr: 0.0010\n",
      "Epoch 11/500\n",
      "263/263 [==============================] - 6s 21ms/step - loss: 0.0475 - accuracy: 0.9826 - val_loss: 0.1190 - val_accuracy: 0.9692 - lr: 0.0010\n",
      "Epoch 12/500\n",
      "263/263 [==============================] - 6s 21ms/step - loss: 0.0414 - accuracy: 0.9856 - val_loss: 0.1232 - val_accuracy: 0.9713 - lr: 0.0010\n",
      "Epoch 13/500\n",
      "263/263 [==============================] - 6s 21ms/step - loss: 0.0412 - accuracy: 0.9858 - val_loss: 0.1404 - val_accuracy: 0.9644 - lr: 0.0010\n",
      "Epoch 14/500\n",
      "263/263 [==============================] - 6s 21ms/step - loss: 0.0361 - accuracy: 0.9878 - val_loss: 0.1288 - val_accuracy: 0.9675 - lr: 0.0010\n",
      "Epoch 15/500\n",
      "263/263 [==============================] - 6s 21ms/step - loss: 0.0356 - accuracy: 0.9870 - val_loss: 0.1480 - val_accuracy: 0.9667 - lr: 0.0010\n",
      "Epoch 16/500\n",
      "263/263 [==============================] - 6s 21ms/step - loss: 0.0348 - accuracy: 0.9876 - val_loss: 0.1529 - val_accuracy: 0.9657 - lr: 0.0010\n",
      "Epoch 17/500\n",
      "263/263 [==============================] - 6s 21ms/step - loss: 0.0311 - accuracy: 0.9891 - val_loss: 0.1438 - val_accuracy: 0.9707 - lr: 0.0010\n",
      "Epoch 18/500\n",
      "263/263 [==============================] - 6s 21ms/step - loss: 0.0308 - accuracy: 0.9891 - val_loss: 0.1490 - val_accuracy: 0.9685 - lr: 0.0010\n",
      "Epoch 19/500\n",
      "263/263 [==============================] - 6s 21ms/step - loss: 0.0281 - accuracy: 0.9900 - val_loss: 0.1367 - val_accuracy: 0.9710 - lr: 0.0010\n",
      "Epoch 20/500\n",
      "263/263 [==============================] - 6s 21ms/step - loss: 0.0285 - accuracy: 0.9903 - val_loss: 0.1322 - val_accuracy: 0.9738 - lr: 0.0010\n",
      "Epoch 21/500\n",
      "263/263 [==============================] - 6s 21ms/step - loss: 0.0263 - accuracy: 0.9908 - val_loss: 0.1420 - val_accuracy: 0.9689 - lr: 0.0010\n",
      "Epoch 22/500\n",
      "263/263 [==============================] - 6s 22ms/step - loss: 0.0242 - accuracy: 0.9911 - val_loss: 0.1515 - val_accuracy: 0.9687 - lr: 0.0010\n",
      "Epoch 23/500\n",
      "263/263 [==============================] - 6s 22ms/step - loss: 0.0271 - accuracy: 0.9907 - val_loss: 0.1533 - val_accuracy: 0.9687 - lr: 0.0010\n",
      "Epoch 24/500\n",
      "263/263 [==============================] - 6s 22ms/step - loss: 0.0239 - accuracy: 0.9914 - val_loss: 0.1359 - val_accuracy: 0.9700 - lr: 0.0010\n",
      "Epoch 25/500\n",
      "263/263 [==============================] - 6s 22ms/step - loss: 0.0232 - accuracy: 0.9915 - val_loss: 0.1280 - val_accuracy: 0.9742 - lr: 0.0010\n",
      "Epoch 25: early stopping\n"
     ]
    }
   ],
   "source": [
    "history = model.fit(X,y,epochs=500,batch_size=128,validation_split=0.2,callbacks=callbacks)"
   ]
  },
  {
   "cell_type": "code",
   "execution_count": 61,
   "id": "0293d953",
   "metadata": {},
   "outputs": [
    {
     "data": {
      "image/png": "[encoded data removed]",
      "text/plain": [
       "<Figure size 432x288 with 1 Axes>"
      ]
     },
     "metadata": {
      "needs_background": "light"
     },
     "output_type": "display_data"
    }
   ],
   "source": [
    "metric = \"accuracy\"\n",
    "plt.figure()\n",
    "plt.plot(history.history[metric])\n",
    "plt.plot(history.history[\"val_\" + metric])\n",
    "plt.title(\"model \" + metric)\n",
    "plt.ylabel(metric, fontsize=\"large\")\n",
    "plt.xlabel(\"epoch\", fontsize=\"large\")\n",
    "plt.legend([\"train\", \"val\"], loc=\"best\")\n",
    "plt.show()\n",
    "plt.close()"
   ]
  },
  {
   "cell_type": "code",
   "execution_count": 65,
   "id": "da911b2e",
   "metadata": {},
   "outputs": [],
   "source": [
    "model = keras.models.load_model('D:\\\\ML\\\\DL Repo\\\\digit-recognizer\\\\model\\\\best_1D_CNN_model.h5')"
   ]
  },
  {
   "cell_type": "code",
   "execution_count": 66,
   "id": "834b45df",
   "metadata": {},
   "outputs": [],
   "source": [
    "test_y = model.predict(test)"
   ]
  },
  {
   "cell_type": "code",
   "execution_count": 67,
   "id": "731e1af0",
   "metadata": {},
   "outputs": [],
   "source": [
    "dic = {'ImageId':[],'Label':[]}\n",
    "for i in range(len(test_y)):\n",
    "    dic['ImageId'].append(i+1)\n",
    "    dic['Label'].append(np.argmax(test_y[i]))"
   ]
  },
  {
   "cell_type": "code",
   "execution_count": 68,
   "id": "d781cf12",
   "metadata": {},
   "outputs": [
    {
     "data": {
      "text/html": [
       "<div>\n",
       "<style scoped>\n",
       "    .dataframe tbody tr th:only-of-type {\n",
       "        vertical-align: middle;\n",
       "    }\n",
       "\n",
       "    .dataframe tbody tr th {\n",
       "        vertical-align: top;\n",
       "    }\n",
       "\n",
       "    .dataframe thead th {\n",
       "        text-align: right;\n",
       "    }\n",
       "</style>\n",
       "<table border=\"1\" class=\"dataframe\">\n",
       "  <thead>\n",
       "    <tr style=\"text-align: right;\">\n",
       "      <th></th>\n",
       "      <th>ImageId</th>\n",
       "      <th>Label</th>\n",
       "    </tr>\n",
       "  </thead>\n",
       "  <tbody>\n",
       "    <tr>\n",
       "      <th>0</th>\n",
       "      <td>1</td>\n",
       "      <td>2</td>\n",
       "    </tr>\n",
       "    <tr>\n",
       "      <th>1</th>\n",
       "      <td>2</td>\n",
       "      <td>0</td>\n",
       "    </tr>\n",
       "    <tr>\n",
       "      <th>2</th>\n",
       "      <td>3</td>\n",
       "      <td>9</td>\n",
       "    </tr>\n",
       "    <tr>\n",
       "      <th>3</th>\n",
       "      <td>4</td>\n",
       "      <td>2</td>\n",
       "    </tr>\n",
       "    <tr>\n",
       "      <th>4</th>\n",
       "      <td>5</td>\n",
       "      <td>3</td>\n",
       "    </tr>\n",
       "  </tbody>\n",
       "</table>\n",
       "</div>"
      ],
      "text/plain": [
       "   ImageId  Label\n",
       "0        1      2\n",
       "1        2      0\n",
       "2        3      9\n",
       "3        4      2\n",
       "4        5      3"
      ]
     },
     "execution_count": 68,
     "metadata": {},
     "output_type": "execute_result"
    }
   ],
   "source": [
    "test_df = pd.DataFrame.from_dict(dic)\n",
    "test_df.head()"
   ]
  },
  {
   "cell_type": "code",
   "execution_count": 69,
   "id": "db6f1451",
   "metadata": {},
   "outputs": [],
   "source": [
    "test_df.to_csv('D:\\\\ML\\\\DL Repo\\\\digit-recognizer\\\\Out\\\\my_submission_file_1D_CNN.csv', index=False)"
   ]
  },
  {
   "cell_type": "code",
   "execution_count": null,
   "id": "ed431826",
   "metadata": {},
   "outputs": [],
   "source": []
  }
 ],
 "metadata": {
  "kernelspec": {
   "display_name": "Python 3 (ipykernel)",
   "language": "python",
   "name": "python3"
  },
  "language_info": {
   "codemirror_mode": {
    "name": "ipython",
    "version": 3
   },
   "file_extension": ".py",
   "mimetype": "text/x-python",
   "name": "python",
   "nbconvert_exporter": "python",
   "pygments_lexer": "ipython3",
   "version": "3.10.4"
  }
 },
 "nbformat": 4,
 "nbformat_minor": 5
}
