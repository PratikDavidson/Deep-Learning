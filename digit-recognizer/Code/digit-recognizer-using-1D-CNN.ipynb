{
 "cells": [
  {
   "cell_type": "code",
   "execution_count": 1,
   "id": "dcf23a39",
   "metadata": {},
   "outputs": [],
   "source": [
    "import numpy as np\n",
    "import pandas as pd\n",
    "import matplotlib.pyplot as plt\n",
    "from keras.models import Model\n",
    "from keras.layers import Activation,Add,Dense,Conv1D,MaxPooling1D,AveragePooling1D,Flatten,GlobalMaxPooling1D,Dropout,BatchNormalization,Input,Activation,GlobalAveragePooling1D\n",
    "from keras import callbacks\n",
    "from tensorflow.keras.utils import to_categorical"
   ]
  },
  {
   "cell_type": "code",
   "execution_count": 2,
   "id": "398e75d6",
   "metadata": {},
   "outputs": [],
   "source": [
    "import tensorflow as tf\n",
    "import keras"
   ]
  },
  {
   "cell_type": "code",
   "execution_count": 3,
   "id": "0dc86966",
   "metadata": {},
   "outputs": [],
   "source": [
    "train = pd.read_csv('D:\\\\ML\\\\DL Repo\\\\digit-recognizer\\\\Data\\\\train.csv')\n",
    "test = pd.read_csv('D:\\\\ML\\\\DL Repo\\\\digit-recognizer\\\\Data\\\\test.csv')"
   ]
  },
  {
   "cell_type": "code",
   "execution_count": 4,
   "id": "fd72e00f",
   "metadata": {},
   "outputs": [],
   "source": [
    "X = np.array(train[train.columns[1:]])\n",
    "y = train['label']"
   ]
  },
  {
   "cell_type": "code",
   "execution_count": 5,
   "id": "08034131",
   "metadata": {},
   "outputs": [],
   "source": [
    "y = to_categorical(y)"
   ]
  },
  {
   "cell_type": "code",
   "execution_count": 6,
   "id": "0f72f37f",
   "metadata": {},
   "outputs": [
    {
     "data": {
      "text/plain": [
       "((42000, 784), (42000, 10))"
      ]
     },
     "execution_count": 6,
     "metadata": {},
     "output_type": "execute_result"
    }
   ],
   "source": [
    "X.shape,y.shape"
   ]
  },
  {
   "cell_type": "code",
   "execution_count": 7,
   "id": "42e680bf",
   "metadata": {},
   "outputs": [],
   "source": [
    "X = X.reshape((X.shape[0],X.shape[1],1))"
   ]
  },
  {
   "cell_type": "code",
   "execution_count": 8,
   "id": "7c4a6239",
   "metadata": {},
   "outputs": [],
   "source": [
    "X = X/255"
   ]
  },
  {
   "cell_type": "code",
   "execution_count": 9,
   "id": "1eef0044",
   "metadata": {},
   "outputs": [
    {
     "data": {
      "text/plain": [
       "dtype('float64')"
      ]
     },
     "execution_count": 9,
     "metadata": {},
     "output_type": "execute_result"
    }
   ],
   "source": [
    "X.dtype"
   ]
  },
  {
   "cell_type": "code",
   "execution_count": 10,
   "id": "5d8ec54d",
   "metadata": {},
   "outputs": [],
   "source": [
    "def make_model():    \n",
    "    input_shape = X.shape[1:]\n",
    "    num_classes = 10\n",
    "\n",
    "    input_layer = Input(input_shape)\n",
    "    #input_layer = BatchNormalization()(input_layer)\n",
    "\n",
    "\n",
    "    conv1 = Conv1D(filters=64, kernel_size=3, padding=\"same\", use_bias = False)(input_layer)\n",
    "    conv1 = BatchNormalization()(conv1)\n",
    "    conv1 = Activation('relu')(conv1)\n",
    "    \n",
    "    pool1 = MaxPooling1D(3)(conv1)\n",
    "    pool1 = Dropout(0.2)(pool1)\n",
    "    \n",
    "    conv2 = Conv1D(filters=64, kernel_size=3, padding=\"same\", use_bias = False)(conv1)\n",
    "    conv2 = BatchNormalization()(conv2)\n",
    "    conv2 = Activation('relu')(conv2)\n",
    "    \n",
    "    pool2 = MaxPooling1D(3)(conv2)\n",
    "    pool2 = Dropout(0.2)(pool2)\n",
    "    \n",
    "    conv3 = Conv1D(filters=64, kernel_size=3, padding=\"same\", use_bias = False)(conv2)\n",
    "    conv3 = BatchNormalization()(conv3)\n",
    "    conv3 = Activation('relu')(conv3)\n",
    "\n",
    "    gap = MaxPooling1D(3)(conv3)\n",
    "    gap = Flatten()(gap)\n",
    "    gap = Dropout(0.5)(gap)\n",
    "\n",
    "    output_layer = Dense(num_classes, activation=\"softmax\")(gap)\n",
    "\n",
    "    return Model(inputs=input_layer, outputs=output_layer)\n",
    "\n",
    "\n",
    "model = make_model()"
   ]
  },
  {
   "cell_type": "code",
   "execution_count": 11,
   "id": "b6d42679",
   "metadata": {},
   "outputs": [],
   "source": [
    "model.compile(loss='categorical_crossentropy',optimizer='adam',metrics=['accuracy'])"
   ]
  },
  {
   "cell_type": "code",
   "execution_count": 12,
   "id": "0417939e",
   "metadata": {},
   "outputs": [],
   "source": [
    "callbacks = [callbacks.ModelCheckpoint(\"D:\\\\ML\\\\DL Repo\\\\digit-recognizer\\\\model\\\\best_1D_CNN_model.h5\", save_best_only=True, monitor=\"val_loss\"),\n",
    "             callbacks.ReduceLROnPlateau(monitor=\"val_loss\", factor=0.5, patience=20, min_lr=0.0001),\n",
    "             callbacks.EarlyStopping(monitor=\"val_loss\", patience=20, verbose=1)]"
   ]
  },
  {
   "cell_type": "code",
   "execution_count": 13,
   "id": "7cee4439",
   "metadata": {},
   "outputs": [
    {
     "name": "stdout",
     "output_type": "stream",
     "text": [
      "Epoch 1/500\n",
      "263/263 [==============================] - 15s 23ms/step - loss: 0.4192 - accuracy: 0.8940 - val_loss: 6.6008 - val_accuracy: 0.0913 - lr: 0.0010\n",
      "Epoch 2/500\n",
      "263/263 [==============================] - 6s 21ms/step - loss: 0.1915 - accuracy: 0.9436 - val_loss: 3.1039 - val_accuracy: 0.3237 - lr: 0.0010\n",
      "Epoch 3/500\n",
      "263/263 [==============================] - 6s 21ms/step - loss: 0.1526 - accuracy: 0.9543 - val_loss: 0.1242 - val_accuracy: 0.9635 - lr: 0.0010\n",
      "Epoch 4/500\n",
      "263/263 [==============================] - 6s 21ms/step - loss: 0.1222 - accuracy: 0.9632 - val_loss: 0.1336 - val_accuracy: 0.9619 - lr: 0.0010\n",
      "Epoch 5/500\n",
      "263/263 [==============================] - 6s 21ms/step - loss: 0.1068 - accuracy: 0.9663 - val_loss: 0.1085 - val_accuracy: 0.9685 - lr: 0.0010\n",
      "Epoch 6/500\n",
      "263/263 [==============================] - 6s 21ms/step - loss: 0.0948 - accuracy: 0.9697 - val_loss: 0.1417 - val_accuracy: 0.9583 - lr: 0.0010\n",
      "Epoch 7/500\n",
      "263/263 [==============================] - 6s 21ms/step - loss: 0.0825 - accuracy: 0.9727 - val_loss: 0.1191 - val_accuracy: 0.9644 - lr: 0.0010\n",
      "Epoch 8/500\n",
      "263/263 [==============================] - 6s 21ms/step - loss: 0.0764 - accuracy: 0.9750 - val_loss: 0.1257 - val_accuracy: 0.9632 - lr: 0.0010\n",
      "Epoch 9/500\n",
      "263/263 [==============================] - 6s 21ms/step - loss: 0.0721 - accuracy: 0.9763 - val_loss: 0.1152 - val_accuracy: 0.9665 - lr: 0.0010\n",
      "Epoch 10/500\n",
      "263/263 [==============================] - 6s 21ms/step - loss: 0.0659 - accuracy: 0.9784 - val_loss: 0.1122 - val_accuracy: 0.9688 - lr: 0.0010\n",
      "Epoch 11/500\n",
      "263/263 [==============================] - 6s 21ms/step - loss: 0.0575 - accuracy: 0.9810 - val_loss: 0.1067 - val_accuracy: 0.9696 - lr: 0.0010\n",
      "Epoch 12/500\n",
      "263/263 [==============================] - 6s 21ms/step - loss: 0.0537 - accuracy: 0.9819 - val_loss: 0.1224 - val_accuracy: 0.9660 - lr: 0.0010\n",
      "Epoch 13/500\n",
      "263/263 [==============================] - 6s 21ms/step - loss: 0.0509 - accuracy: 0.9824 - val_loss: 0.1134 - val_accuracy: 0.9692 - lr: 0.0010\n",
      "Epoch 14/500\n",
      "263/263 [==============================] - 6s 21ms/step - loss: 0.0500 - accuracy: 0.9830 - val_loss: 0.1028 - val_accuracy: 0.9721 - lr: 0.0010\n",
      "Epoch 15/500\n",
      "263/263 [==============================] - 6s 21ms/step - loss: 0.0443 - accuracy: 0.9850 - val_loss: 0.1212 - val_accuracy: 0.9676 - lr: 0.0010\n",
      "Epoch 16/500\n",
      "263/263 [==============================] - 6s 21ms/step - loss: 0.0483 - accuracy: 0.9830 - val_loss: 0.1055 - val_accuracy: 0.9724 - lr: 0.0010\n",
      "Epoch 17/500\n",
      "263/263 [==============================] - 6s 21ms/step - loss: 0.0424 - accuracy: 0.9850 - val_loss: 0.1182 - val_accuracy: 0.9685 - lr: 0.0010\n",
      "Epoch 18/500\n",
      "263/263 [==============================] - 6s 21ms/step - loss: 0.0393 - accuracy: 0.9868 - val_loss: 0.1161 - val_accuracy: 0.9712 - lr: 0.0010\n",
      "Epoch 19/500\n",
      "263/263 [==============================] - 6s 22ms/step - loss: 0.0353 - accuracy: 0.9881 - val_loss: 0.1338 - val_accuracy: 0.9670 - lr: 0.0010\n",
      "Epoch 20/500\n",
      "263/263 [==============================] - 6s 21ms/step - loss: 0.0358 - accuracy: 0.9873 - val_loss: 0.1243 - val_accuracy: 0.9707 - lr: 0.0010\n",
      "Epoch 21/500\n",
      "263/263 [==============================] - 6s 21ms/step - loss: 0.0321 - accuracy: 0.9879 - val_loss: 0.1087 - val_accuracy: 0.9736 - lr: 0.0010\n",
      "Epoch 22/500\n",
      "263/263 [==============================] - 6s 21ms/step - loss: 0.0346 - accuracy: 0.9881 - val_loss: 0.1145 - val_accuracy: 0.9712 - lr: 0.0010\n",
      "Epoch 23/500\n",
      "263/263 [==============================] - 6s 21ms/step - loss: 0.0319 - accuracy: 0.9890 - val_loss: 0.1261 - val_accuracy: 0.9680 - lr: 0.0010\n",
      "Epoch 24/500\n",
      "263/263 [==============================] - 6s 21ms/step - loss: 0.0319 - accuracy: 0.9891 - val_loss: 0.1141 - val_accuracy: 0.9733 - lr: 0.0010\n",
      "Epoch 25/500\n",
      "263/263 [==============================] - 6s 21ms/step - loss: 0.0313 - accuracy: 0.9887 - val_loss: 0.1144 - val_accuracy: 0.9736 - lr: 0.0010\n",
      "Epoch 26/500\n",
      "263/263 [==============================] - 6s 21ms/step - loss: 0.0307 - accuracy: 0.9890 - val_loss: 0.1101 - val_accuracy: 0.9749 - lr: 0.0010\n",
      "Epoch 27/500\n",
      "263/263 [==============================] - 6s 21ms/step - loss: 0.0275 - accuracy: 0.9900 - val_loss: 0.1198 - val_accuracy: 0.9727 - lr: 0.0010\n",
      "Epoch 28/500\n",
      "263/263 [==============================] - 6s 21ms/step - loss: 0.0272 - accuracy: 0.9900 - val_loss: 0.1305 - val_accuracy: 0.9720 - lr: 0.0010\n",
      "Epoch 29/500\n",
      "263/263 [==============================] - 6s 21ms/step - loss: 0.0257 - accuracy: 0.9907 - val_loss: 0.1388 - val_accuracy: 0.9700 - lr: 0.0010\n",
      "Epoch 30/500\n",
      "263/263 [==============================] - 6s 21ms/step - loss: 0.0268 - accuracy: 0.9908 - val_loss: 0.1208 - val_accuracy: 0.9732 - lr: 0.0010\n",
      "Epoch 31/500\n",
      "263/263 [==============================] - 6s 21ms/step - loss: 0.0233 - accuracy: 0.9913 - val_loss: 0.1328 - val_accuracy: 0.9726 - lr: 0.0010\n",
      "Epoch 32/500\n",
      "263/263 [==============================] - 6s 21ms/step - loss: 0.0253 - accuracy: 0.9909 - val_loss: 0.1184 - val_accuracy: 0.9754 - lr: 0.0010\n",
      "Epoch 33/500\n",
      "263/263 [==============================] - 6s 21ms/step - loss: 0.0244 - accuracy: 0.9915 - val_loss: 0.1207 - val_accuracy: 0.9713 - lr: 0.0010\n",
      "Epoch 34/500\n",
      "263/263 [==============================] - 6s 21ms/step - loss: 0.0238 - accuracy: 0.9917 - val_loss: 0.1282 - val_accuracy: 0.9738 - lr: 0.0010\n",
      "Epoch 34: early stopping\n"
     ]
    }
   ],
   "source": [
    "history = model.fit(X,y,epochs=500,batch_size=128,validation_split=0.2,callbacks=callbacks)"
   ]
  },
  {
   "cell_type": "code",
   "execution_count": 14,
   "id": "da911b2e",
   "metadata": {},
   "outputs": [],
   "source": [
    "model = keras.models.load_model('D:\\\\ML\\\\DL Repo\\\\digit-recognizer\\\\model\\\\best_1D_CNN_model.h5')"
   ]
  },
  {
   "cell_type": "code",
   "execution_count": 15,
   "id": "491cc28b",
   "metadata": {},
   "outputs": [],
   "source": [
    "X_test = np.array(test).reshape((test.shape[0],test.shape[1],1))\n",
    "X_test = X_test/255\n",
    "test_y = model.predict(X_test)"
   ]
  },
  {
   "cell_type": "code",
   "execution_count": 16,
   "id": "3b1536ad",
   "metadata": {},
   "outputs": [],
   "source": [
    "dic = {'ImageId':[],'Label':[]}\n",
    "for i in range(len(test_y)):\n",
    "    dic['ImageId'].append(i+1)\n",
    "    dic['Label'].append(np.argmax(test_y[i]))"
   ]
  },
  {
   "cell_type": "code",
   "execution_count": 17,
   "id": "c079efae",
   "metadata": {},
   "outputs": [
    {
     "data": {
      "text/html": [
       "<div>\n",
       "<style scoped>\n",
       "    .dataframe tbody tr th:only-of-type {\n",
       "        vertical-align: middle;\n",
       "    }\n",
       "\n",
       "    .dataframe tbody tr th {\n",
       "        vertical-align: top;\n",
       "    }\n",
       "\n",
       "    .dataframe thead th {\n",
       "        text-align: right;\n",
       "    }\n",
       "</style>\n",
       "<table border=\"1\" class=\"dataframe\">\n",
       "  <thead>\n",
       "    <tr style=\"text-align: right;\">\n",
       "      <th></th>\n",
       "      <th>ImageId</th>\n",
       "      <th>Label</th>\n",
       "    </tr>\n",
       "  </thead>\n",
       "  <tbody>\n",
       "    <tr>\n",
       "      <th>0</th>\n",
       "      <td>1</td>\n",
       "      <td>2</td>\n",
       "    </tr>\n",
       "    <tr>\n",
       "      <th>1</th>\n",
       "      <td>2</td>\n",
       "      <td>0</td>\n",
       "    </tr>\n",
       "    <tr>\n",
       "      <th>2</th>\n",
       "      <td>3</td>\n",
       "      <td>9</td>\n",
       "    </tr>\n",
       "    <tr>\n",
       "      <th>3</th>\n",
       "      <td>4</td>\n",
       "      <td>2</td>\n",
       "    </tr>\n",
       "    <tr>\n",
       "      <th>4</th>\n",
       "      <td>5</td>\n",
       "      <td>3</td>\n",
       "    </tr>\n",
       "  </tbody>\n",
       "</table>\n",
       "</div>"
      ],
      "text/plain": [
       "   ImageId  Label\n",
       "0        1      2\n",
       "1        2      0\n",
       "2        3      9\n",
       "3        4      2\n",
       "4        5      3"
      ]
     },
     "execution_count": 17,
     "metadata": {},
     "output_type": "execute_result"
    }
   ],
   "source": [
    "test_df = pd.DataFrame.from_dict(dic)\n",
    "test_df.head()"
   ]
  },
  {
   "cell_type": "code",
   "execution_count": 18,
   "id": "aac65255",
   "metadata": {},
   "outputs": [],
   "source": [
    "test_df.to_csv('D:\\\\ML\\\\DL Repo\\\\digit-recognizer\\\\Out\\\\my_submission_file_1D_CNN.csv', index=False)"
   ]
  },
  {
   "cell_type": "code",
   "execution_count": 19,
   "id": "0293d953",
   "metadata": {},
   "outputs": [
    {
     "data": {
      "image/png": "[encoded data removed]",
      "text/plain": [
       "<Figure size 432x288 with 1 Axes>"
      ]
     },
     "metadata": {
      "needs_background": "light"
     },
     "output_type": "display_data"
    }
   ],
   "source": [
    "metric = \"accuracy\"\n",
    "plt.figure()\n",
    "plt.plot(history.history[metric])\n",
    "plt.plot(history.history[\"val_\" + metric])\n",
    "plt.title(\"model \" + metric)\n",
    "plt.ylabel(metric, fontsize=\"large\")\n",
    "plt.xlabel(\"epoch\", fontsize=\"large\")\n",
    "plt.legend([\"train\", \"val\"], loc=\"best\")\n",
    "plt.show()\n",
    "plt.close()"
   ]
  },
  {
   "cell_type": "code",
   "execution_count": 20,
   "id": "424b957f",
   "metadata": {},
   "outputs": [
    {
     "name": "stdout",
     "output_type": "stream",
     "text": [
      "Model: \"model\"\n",
      "_________________________________________________________________\n",
      " Layer (type)                Output Shape              Param #   \n",
      "=================================================================\n",
      " input_1 (InputLayer)        [(None, 784, 1)]          0         \n",
      "                                                                 \n",
      " conv1d (Conv1D)             (None, 784, 64)           192       \n",
      "                                                                 \n",
      " batch_normalization (BatchN  (None, 784, 64)          256       \n",
      " ormalization)                                                   \n",
      "                                                                 \n",
      " activation (Activation)     (None, 784, 64)           0         \n",
      "                                                                 \n",
      " conv1d_1 (Conv1D)           (None, 784, 64)           12288     \n",
      "                                                                 \n",
      " batch_normalization_1 (Batc  (None, 784, 64)          256       \n",
      " hNormalization)                                                 \n",
      "                                                                 \n",
      " activation_1 (Activation)   (None, 784, 64)           0         \n",
      "                                                                 \n",
      " conv1d_2 (Conv1D)           (None, 784, 64)           12288     \n",
      "                                                                 \n",
      " batch_normalization_2 (Batc  (None, 784, 64)          256       \n",
      " hNormalization)                                                 \n",
      "                                                                 \n",
      " activation_2 (Activation)   (None, 784, 64)           0         \n",
      "                                                                 \n",
      " max_pooling1d_2 (MaxPooling  (None, 261, 64)          0         \n",
      " 1D)                                                             \n",
      "                                                                 \n",
      " flatten (Flatten)           (None, 16704)             0         \n",
      "                                                                 \n",
      " dropout_2 (Dropout)         (None, 16704)             0         \n",
      "                                                                 \n",
      " dense (Dense)               (None, 10)                167050    \n",
      "                                                                 \n",
      "=================================================================\n",
      "Total params: 192,586\n",
      "Trainable params: 192,202\n",
      "Non-trainable params: 384\n",
      "_________________________________________________________________\n"
     ]
    }
   ],
   "source": [
    "model.summary()"
   ]
  },
  {
   "cell_type": "code",
   "execution_count": 21,
   "id": "2a4ea021",
   "metadata": {},
   "outputs": [],
   "source": [
    "history_pd = pd.DataFrame(history.history)"
   ]
  },
  {
   "cell_type": "code",
   "execution_count": 22,
   "id": "298b3fe4",
   "metadata": {},
   "outputs": [],
   "source": [
    "history_pd.to_csv('D:\\\\ML\\\\DL Repo\\\\digit-recognizer\\\\model\\\\Saved training data\\\\1D_CNN_model_history.csv')"
   ]
  },
  {
   "cell_type": "code",
   "execution_count": 63,
   "id": "a1b8f2f2",
   "metadata": {},
   "outputs": [],
   "source": [
    "with open('D:\\\\ML\\\\DL Repo\\\\digit-recognizer\\\\model\\\\Saved summary\\\\1D_CNN_model_summary.txt','w') as f:\n",
    "    f.write('```')"
   ]
  },
  {
   "cell_type": "code",
   "execution_count": 64,
   "id": "9530e062",
   "metadata": {},
   "outputs": [],
   "source": [
    "def myprint(s):\n",
    "    with open('D:\\\\ML\\\\DL Repo\\\\digit-recognizer\\\\model\\\\Saved summary\\\\1D_CNN_model_summary.txt','a') as f:\n",
    "        print(s, file=f)\n",
    "   # with open('D:\\\\ML\\\\DL Repo\\\\digit-recognizer\\\\model\\\\Saved summary\\\\1D_CNN_model_summary.txt','a') as f:\n",
    "        #f.write('```')\n",
    "model.summary(print_fn = myprint)"
   ]
  },
  {
   "cell_type": "code",
   "execution_count": 65,
   "id": "56357c1f",
   "metadata": {},
   "outputs": [],
   "source": [
    "with open('D:\\\\ML\\\\DL Repo\\\\digit-recognizer\\\\model\\\\Saved summary\\\\1D_CNN_model_summary.txt','a') as f:\n",
    "    f.write('```')"
   ]
  },
  {
   "cell_type": "code",
   "execution_count": 70,
   "id": "3e1552b2",
   "metadata": {},
   "outputs": [
    {
     "data": {
      "text/plain": [
       "0.09130952507257462"
      ]
     },
     "execution_count": 70,
     "metadata": {},
     "output_type": "execute_result"
    }
   ],
   "source": [
    "history_pd['val_accuracy'].iloc[0]"
   ]
  },
  {
   "cell_type": "code",
   "execution_count": null,
   "id": "c6c69616",
   "metadata": {},
   "outputs": [],
   "source": []
  }
 ],
 "metadata": {
  "kernelspec": {
   "display_name": "Python 3 (ipykernel)",
   "language": "python",
   "name": "python3"
  },
  "language_info": {
   "codemirror_mode": {
    "name": "ipython",
    "version": 3
   },
   "file_extension": ".py",
   "mimetype": "text/x-python",
   "name": "python",
   "nbconvert_exporter": "python",
   "pygments_lexer": "ipython3",
   "version": "3.10.4"
  }
 },
 "nbformat": 4,
 "nbformat_minor": 5
}
