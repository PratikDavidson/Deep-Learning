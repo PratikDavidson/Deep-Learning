{
 "cells": [
  {
   "cell_type": "code",
   "execution_count": 101,
   "id": "8040d978",
   "metadata": {},
   "outputs": [],
   "source": [
    "import numpy as np\n",
    "import pandas as pd\n",
    "import matplotlib.pyplot as plt\n",
    "import seaborn as sns\n",
    "import tensorflow as tf\n",
    "import keras"
   ]
  },
  {
   "cell_type": "code",
   "execution_count": 12,
   "id": "6e7668c2",
   "metadata": {},
   "outputs": [],
   "source": [
    "from keras.models import Sequential,Model\n",
    "from keras.layers import Add,Dense,Conv1D,MaxPooling1D,AveragePooling1D,Flatten,GlobalMaxPooling1D,Dropout,BatchNormalization,Input,Activation,GlobalAveragePooling1D"
   ]
  },
  {
   "cell_type": "code",
   "execution_count": 56,
   "id": "67bebcf5",
   "metadata": {},
   "outputs": [],
   "source": [
    "from keras import callbacks"
   ]
  },
  {
   "cell_type": "code",
   "execution_count": 2,
   "id": "b33ed47e",
   "metadata": {},
   "outputs": [],
   "source": [
    "from tcn import TCN, tcn_full_summary"
   ]
  },
  {
   "cell_type": "code",
   "execution_count": 3,
   "id": "1bb83601",
   "metadata": {},
   "outputs": [],
   "source": [
    "from sklearn.preprocessing import StandardScaler,MinMaxScaler\n",
    "from scikeras.wrappers import KerasClassifier\n",
    "from sklearn.model_selection import StratifiedKFold"
   ]
  },
  {
   "cell_type": "code",
   "execution_count": 4,
   "id": "1177988c",
   "metadata": {},
   "outputs": [],
   "source": [
    "train_features = pd.read_csv('D:\\\\ML\\\\DL Repo\\\\tabular-playground-series-apr-2022\\\\data\\\\train.csv')\n",
    "train_labels = pd.read_csv('D:\\\\ML\\\\DL Repo\\\\tabular-playground-series-apr-2022\\\\data\\\\train_labels.csv')"
   ]
  },
  {
   "cell_type": "code",
   "execution_count": 5,
   "id": "55aaa19f",
   "metadata": {},
   "outputs": [
    {
     "data": {
      "text/html": [
       "<div>\n",
       "<style scoped>\n",
       "    .dataframe tbody tr th:only-of-type {\n",
       "        vertical-align: middle;\n",
       "    }\n",
       "\n",
       "    .dataframe tbody tr th {\n",
       "        vertical-align: top;\n",
       "    }\n",
       "\n",
       "    .dataframe thead th {\n",
       "        text-align: right;\n",
       "    }\n",
       "</style>\n",
       "<table border=\"1\" class=\"dataframe\">\n",
       "  <thead>\n",
       "    <tr style=\"text-align: right;\">\n",
       "      <th></th>\n",
       "      <th>sensor_00</th>\n",
       "      <th>sensor_01</th>\n",
       "      <th>sensor_02</th>\n",
       "      <th>sensor_03</th>\n",
       "      <th>sensor_04</th>\n",
       "      <th>sensor_05</th>\n",
       "      <th>sensor_06</th>\n",
       "      <th>sensor_07</th>\n",
       "      <th>sensor_08</th>\n",
       "      <th>sensor_09</th>\n",
       "      <th>sensor_10</th>\n",
       "      <th>sensor_11</th>\n",
       "      <th>sensor_12</th>\n",
       "    </tr>\n",
       "  </thead>\n",
       "  <tbody>\n",
       "    <tr>\n",
       "      <th>0</th>\n",
       "      <td>-0.196291</td>\n",
       "      <td>0.112395</td>\n",
       "      <td>1.0</td>\n",
       "      <td>0.329204</td>\n",
       "      <td>-1.004660</td>\n",
       "      <td>-0.131638</td>\n",
       "      <td>-0.127505</td>\n",
       "      <td>0.368702</td>\n",
       "      <td>-0.1</td>\n",
       "      <td>-0.963873</td>\n",
       "      <td>-0.985069</td>\n",
       "      <td>0.531893</td>\n",
       "      <td>4.751492</td>\n",
       "    </tr>\n",
       "    <tr>\n",
       "      <th>1</th>\n",
       "      <td>-0.447450</td>\n",
       "      <td>0.134454</td>\n",
       "      <td>1.0</td>\n",
       "      <td>-0.658407</td>\n",
       "      <td>0.162495</td>\n",
       "      <td>0.340314</td>\n",
       "      <td>-0.209472</td>\n",
       "      <td>-0.867176</td>\n",
       "      <td>0.2</td>\n",
       "      <td>-0.301301</td>\n",
       "      <td>0.082733</td>\n",
       "      <td>-0.231481</td>\n",
       "      <td>0.454390</td>\n",
       "    </tr>\n",
       "    <tr>\n",
       "      <th>2</th>\n",
       "      <td>0.326893</td>\n",
       "      <td>-0.694328</td>\n",
       "      <td>1.0</td>\n",
       "      <td>0.330088</td>\n",
       "      <td>0.473678</td>\n",
       "      <td>1.280479</td>\n",
       "      <td>-0.094718</td>\n",
       "      <td>0.535878</td>\n",
       "      <td>1.4</td>\n",
       "      <td>1.002168</td>\n",
       "      <td>0.449221</td>\n",
       "      <td>-0.586420</td>\n",
       "      <td>-4.736147</td>\n",
       "    </tr>\n",
       "    <tr>\n",
       "      <th>3</th>\n",
       "      <td>0.523184</td>\n",
       "      <td>0.751050</td>\n",
       "      <td>1.0</td>\n",
       "      <td>0.976991</td>\n",
       "      <td>-0.563287</td>\n",
       "      <td>-0.720269</td>\n",
       "      <td>0.793260</td>\n",
       "      <td>0.951145</td>\n",
       "      <td>-0.3</td>\n",
       "      <td>-0.995665</td>\n",
       "      <td>-0.434290</td>\n",
       "      <td>1.344650</td>\n",
       "      <td>0.429241</td>\n",
       "    </tr>\n",
       "    <tr>\n",
       "      <th>4</th>\n",
       "      <td>0.272025</td>\n",
       "      <td>1.074580</td>\n",
       "      <td>1.0</td>\n",
       "      <td>-0.136283</td>\n",
       "      <td>0.398579</td>\n",
       "      <td>0.044877</td>\n",
       "      <td>0.560109</td>\n",
       "      <td>-0.541985</td>\n",
       "      <td>-0.9</td>\n",
       "      <td>1.055636</td>\n",
       "      <td>0.812631</td>\n",
       "      <td>0.123457</td>\n",
       "      <td>-0.223359</td>\n",
       "    </tr>\n",
       "  </tbody>\n",
       "</table>\n",
       "</div>"
      ],
      "text/plain": [
       "   sensor_00  sensor_01  sensor_02  sensor_03  sensor_04  sensor_05  \\\n",
       "0  -0.196291   0.112395        1.0   0.329204  -1.004660  -0.131638   \n",
       "1  -0.447450   0.134454        1.0  -0.658407   0.162495   0.340314   \n",
       "2   0.326893  -0.694328        1.0   0.330088   0.473678   1.280479   \n",
       "3   0.523184   0.751050        1.0   0.976991  -0.563287  -0.720269   \n",
       "4   0.272025   1.074580        1.0  -0.136283   0.398579   0.044877   \n",
       "\n",
       "   sensor_06  sensor_07  sensor_08  sensor_09  sensor_10  sensor_11  sensor_12  \n",
       "0  -0.127505   0.368702       -0.1  -0.963873  -0.985069   0.531893   4.751492  \n",
       "1  -0.209472  -0.867176        0.2  -0.301301   0.082733  -0.231481   0.454390  \n",
       "2  -0.094718   0.535878        1.4   1.002168   0.449221  -0.586420  -4.736147  \n",
       "3   0.793260   0.951145       -0.3  -0.995665  -0.434290   1.344650   0.429241  \n",
       "4   0.560109  -0.541985       -0.9   1.055636   0.812631   0.123457  -0.223359  "
      ]
     },
     "execution_count": 5,
     "metadata": {},
     "output_type": "execute_result"
    }
   ],
   "source": [
    "X = train_features.drop(['sequence','subject','step'],axis=1)\n",
    "X.head()"
   ]
  },
  {
   "cell_type": "code",
   "execution_count": 6,
   "id": "a435f27e",
   "metadata": {},
   "outputs": [
    {
     "data": {
      "text/plain": [
       "[<matplotlib.lines.Line2D at 0x20fee5476a0>]"
      ]
     },
     "execution_count": 6,
     "metadata": {},
     "output_type": "execute_result"
    },
    {
     "data": {
      "image/png": "[encoded data removed]",
      "text/plain": [
       "<Figure size 432x288 with 1 Axes>"
      ]
     },
     "metadata": {
      "needs_background": "light"
     },
     "output_type": "display_data"
    }
   ],
   "source": [
    "X = np.array(X).reshape(-1,60,13)\n",
    "plt.plot(X[0,:,0])"
   ]
  },
  {
   "cell_type": "code",
   "execution_count": 7,
   "id": "910e8bb8",
   "metadata": {},
   "outputs": [
    {
     "data": {
      "text/plain": [
       "(25968, 1)"
      ]
     },
     "execution_count": 7,
     "metadata": {},
     "output_type": "execute_result"
    }
   ],
   "source": [
    "y = np.array(train_labels['state']).reshape((len(train_labels['state']),1))\n",
    "y.shape"
   ]
  },
  {
   "cell_type": "code",
   "execution_count": 8,
   "id": "5771c0fa",
   "metadata": {},
   "outputs": [
    {
     "data": {
      "text/plain": [
       "(25968, 60, 13)"
      ]
     },
     "execution_count": 8,
     "metadata": {},
     "output_type": "execute_result"
    }
   ],
   "source": [
    "X.shape"
   ]
  },
  {
   "cell_type": "code",
   "execution_count": 14,
   "id": "7a1cab0a",
   "metadata": {},
   "outputs": [],
   "source": [
    "idx = np.random.permutation(len(X))\n",
    "X_train = X[idx]\n",
    "y_train = y[idx]"
   ]
  },
  {
   "cell_type": "code",
   "execution_count": 57,
   "id": "fd651821",
   "metadata": {},
   "outputs": [],
   "source": [
    "callbacks = [callbacks.ModelCheckpoint(\"D:\\\\ML\\\\DL Repo\\\\tabular-playground-series-apr-2022\\\\model\\\\best_model.h5\", save_best_only=True, monitor=\"val_loss\"),\n",
    "             callbacks.ReduceLROnPlateau(monitor=\"val_loss\", factor=0.5, patience=20, min_lr=0.0001),\n",
    "             callbacks.EarlyStopping(monitor=\"val_loss\", patience=20, verbose=1)]"
   ]
  },
  {
   "cell_type": "code",
   "execution_count": 130,
   "id": "33ef2227",
   "metadata": {},
   "outputs": [],
   "source": [
    "input_layer = Input((60,13))\n",
    "input_layer = BatchNormalization()(input_layer)\n",
    "\n",
    "conv1 = Conv1D(filters=256, kernel_size=3, use_bias=False,padding='same',dilation_rate=1)(input_layer)\n",
    "conv1 = BatchNormalization()(conv1)\n",
    "conv1 = Activation(activation='relu')(conv1)\n",
    "conv1 = Dropout(0.2)(conv1)\n",
    "\n",
    "conv2 = Conv1D(filters=256, kernel_size=3, use_bias=False,padding='same',dilation_rate=1)(conv1)\n",
    "conv2 = BatchNormalization()(conv2)\n",
    "conv2 = Activation('relu')(conv2)\n",
    "conv2 = Dropout(0.2)(conv2)\n",
    "\n",
    "conv3 = Conv1D(filters=256, kernel_size=3, use_bias=False,padding='same',dilation_rate=1)(conv2)\n",
    "conv3 = BatchNormalization()(conv3)\n",
    "conv3 = Activation(activation='relu')(conv3)\n",
    "conv3 = Dropout(0.2)(conv3)\n",
    "\n",
    "pool1 = MaxPooling1D(2,1)(conv3)\n",
    "pool1 = BatchNormalization()(pool1)\n",
    "\n",
    "conv4 = Conv1D(filters=64, kernel_size=3, use_bias=False,padding='same',dilation_rate=1)(pool1)\n",
    "conv4 = BatchNormalization()(conv4)\n",
    "conv4 = Activation(activation='relu')(conv4)\n",
    "conv4 = Dropout(0.2)(conv4)\n",
    "\n",
    "conv5 = Conv1D(filters=64, kernel_size=3, use_bias=False,padding='same',dilation_rate=1)(conv4)\n",
    "conv5 = BatchNormalization()(conv5)\n",
    "conv5 = Activation('relu')(conv5)\n",
    "conv5 = Dropout(0.2)(conv5)\n",
    "\n",
    "conv6 = Conv1D(filters=64, kernel_size=3, use_bias=False,padding='same',dilation_rate=1)(conv5)\n",
    "conv6 = BatchNormalization()(conv6)\n",
    "conv6 = Activation(activation='relu')(conv6)\n",
    "conv6 = Dropout(0.2)(conv6)\n",
    "\n",
    "gap_layer = GlobalAveragePooling1D()(conv6)\n",
    "gap_layer = BatchNormalization()(gap_layer)\n",
    "#gap_layer = Flatten()(gap_layer)\n",
    "gap_layer = Dropout(0.5)(gap_layer)\n",
    "\n",
    "output_layer = Dense(1, activation='sigmoid')(gap_layer)\n",
    "model = Model(inputs=input_layer, outputs=output_layer)"
   ]
  },
  {
   "cell_type": "code",
   "execution_count": 131,
   "id": "a48b717e",
   "metadata": {},
   "outputs": [],
   "source": [
    "model.compile(loss='binary_crossentropy', optimizer='adam', metrics=['accuracy'])"
   ]
  },
  {
   "cell_type": "code",
   "execution_count": 132,
   "id": "c0a3c64e",
   "metadata": {},
   "outputs": [],
   "source": [
    "clf = KerasClassifier(model)"
   ]
  },
  {
   "cell_type": "code",
   "execution_count": 133,
   "id": "eb9b8c7b",
   "metadata": {},
   "outputs": [],
   "source": [
    "cv = StratifiedKFold(n_splits=10,random_state=42,shuffle=True)"
   ]
  },
  {
   "cell_type": "code",
   "execution_count": 134,
   "id": "f4de65fd",
   "metadata": {},
   "outputs": [
    {
     "name": "stdout",
     "output_type": "stream",
     "text": [
      "Epoch 1/5\n",
      "183/183 [==============================] - 5s 17ms/step - loss: 0.7779 - accuracy: 0.5547\n",
      "Epoch 2/5\n",
      "183/183 [==============================] - 3s 16ms/step - loss: 0.6896 - accuracy: 0.6283\n",
      "Epoch 3/5\n",
      "183/183 [==============================] - 3s 17ms/step - loss: 0.6058 - accuracy: 0.6988\n",
      "Epoch 4/5\n",
      "183/183 [==============================] - 3s 17ms/step - loss: 0.5271 - accuracy: 0.7503\n",
      "Epoch 5/5\n",
      "183/183 [==============================] - 3s 17ms/step - loss: 0.4743 - accuracy: 0.7802\n",
      "82/82 [==============================] - 0s 3ms/step\n",
      "0.7855217558721602\n",
      "Epoch 1/5\n",
      "183/183 [==============================] - 3s 17ms/step - loss: 0.4339 - accuracy: 0.8021\n",
      "Epoch 2/5\n",
      "183/183 [==============================] - 3s 17ms/step - loss: 0.4044 - accuracy: 0.8180\n",
      "Epoch 3/5\n",
      "183/183 [==============================] - 3s 17ms/step - loss: 0.3926 - accuracy: 0.8208\n",
      "Epoch 4/5\n",
      "183/183 [==============================] - 3s 17ms/step - loss: 0.3803 - accuracy: 0.8317\n",
      "Epoch 5/5\n",
      "183/183 [==============================] - 3s 17ms/step - loss: 0.3666 - accuracy: 0.8385\n",
      "82/82 [==============================] - 0s 3ms/step\n",
      "0.8386599922988063\n",
      "Epoch 1/5\n",
      "183/183 [==============================] - 3s 17ms/step - loss: 0.3640 - accuracy: 0.8384\n",
      "Epoch 2/5\n",
      "183/183 [==============================] - 3s 17ms/step - loss: 0.3551 - accuracy: 0.8447\n",
      "Epoch 3/5\n",
      "183/183 [==============================] - 3s 17ms/step - loss: 0.3437 - accuracy: 0.8507\n",
      "Epoch 4/5\n",
      "183/183 [==============================] - 3s 16ms/step - loss: 0.3371 - accuracy: 0.8548\n",
      "Epoch 5/5\n",
      "183/183 [==============================] - 3s 16ms/step - loss: 0.3326 - accuracy: 0.8572\n",
      "82/82 [==============================] - 0s 2ms/step\n",
      "0.8482864844050828\n",
      "Epoch 1/5\n",
      "183/183 [==============================] - 3s 17ms/step - loss: 0.3272 - accuracy: 0.8610\n",
      "Epoch 2/5\n",
      "183/183 [==============================] - 3s 17ms/step - loss: 0.3210 - accuracy: 0.8603\n",
      "Epoch 3/5\n",
      "183/183 [==============================] - 3s 17ms/step - loss: 0.3150 - accuracy: 0.8677\n",
      "Epoch 4/5\n",
      "183/183 [==============================] - 3s 17ms/step - loss: 0.3090 - accuracy: 0.8666\n",
      "Epoch 5/5\n",
      "183/183 [==============================] - 3s 17ms/step - loss: 0.3020 - accuracy: 0.8709\n",
      "82/82 [==============================] - 0s 3ms/step\n",
      "0.8529072006160955\n",
      "Epoch 1/5\n",
      "183/183 [==============================] - 3s 17ms/step - loss: 0.2998 - accuracy: 0.8709\n",
      "Epoch 2/5\n",
      "183/183 [==============================] - 3s 17ms/step - loss: 0.2922 - accuracy: 0.8741\n",
      "Epoch 3/5\n",
      "183/183 [==============================] - 3s 17ms/step - loss: 0.2938 - accuracy: 0.8734\n",
      "Epoch 4/5\n",
      "183/183 [==============================] - 3s 17ms/step - loss: 0.2861 - accuracy: 0.8803\n",
      "Epoch 5/5\n",
      "183/183 [==============================] - 3s 16ms/step - loss: 0.2795 - accuracy: 0.8812\n",
      "82/82 [==============================] - 0s 2ms/step\n",
      "0.876010781671159\n",
      "Epoch 1/5\n",
      "183/183 [==============================] - 3s 17ms/step - loss: 0.2766 - accuracy: 0.8837\n",
      "Epoch 2/5\n",
      "183/183 [==============================] - 3s 17ms/step - loss: 0.2749 - accuracy: 0.8834\n",
      "Epoch 3/5\n",
      "183/183 [==============================] - 3s 17ms/step - loss: 0.2702 - accuracy: 0.8849\n",
      "Epoch 4/5\n",
      "183/183 [==============================] - 3s 17ms/step - loss: 0.2609 - accuracy: 0.8903\n",
      "Epoch 5/5\n",
      "183/183 [==============================] - 3s 17ms/step - loss: 0.2574 - accuracy: 0.8926\n",
      "82/82 [==============================] - 0s 2ms/step\n",
      "0.8975741239892183\n",
      "Epoch 1/5\n",
      "183/183 [==============================] - 3s 16ms/step - loss: 0.2617 - accuracy: 0.8896\n",
      "Epoch 2/5\n",
      "183/183 [==============================] - 3s 17ms/step - loss: 0.2508 - accuracy: 0.8937\n",
      "Epoch 3/5\n",
      "183/183 [==============================] - 3s 17ms/step - loss: 0.2421 - accuracy: 0.8986\n",
      "Epoch 4/5\n",
      "183/183 [==============================] - 3s 17ms/step - loss: 0.2411 - accuracy: 0.9007\n",
      "Epoch 5/5\n",
      "183/183 [==============================] - 3s 17ms/step - loss: 0.2355 - accuracy: 0.9029\n",
      "82/82 [==============================] - 0s 2ms/step\n",
      "0.8979591836734694\n",
      "Epoch 1/5\n",
      "183/183 [==============================] - 3s 17ms/step - loss: 0.2381 - accuracy: 0.9000\n",
      "Epoch 2/5\n",
      "183/183 [==============================] - 3s 17ms/step - loss: 0.2259 - accuracy: 0.9044\n",
      "Epoch 3/5\n",
      "183/183 [==============================] - 3s 17ms/step - loss: 0.2294 - accuracy: 0.9042\n",
      "Epoch 4/5\n",
      "183/183 [==============================] - 3s 17ms/step - loss: 0.2152 - accuracy: 0.9110\n",
      "Epoch 5/5\n",
      "183/183 [==============================] - 3s 17ms/step - loss: 0.2185 - accuracy: 0.9095\n",
      "82/82 [==============================] - 0s 3ms/step\n",
      "0.9172121678860223\n",
      "Epoch 1/5\n",
      "183/183 [==============================] - 3s 17ms/step - loss: 0.2147 - accuracy: 0.9102\n",
      "Epoch 2/5\n",
      "183/183 [==============================] - 3s 16ms/step - loss: 0.2132 - accuracy: 0.9119\n",
      "Epoch 3/5\n",
      "183/183 [==============================] - 3s 17ms/step - loss: 0.2045 - accuracy: 0.9174\n",
      "Epoch 4/5\n",
      "183/183 [==============================] - 3s 17ms/step - loss: 0.2056 - accuracy: 0.9168\n",
      "Epoch 5/5\n",
      "183/183 [==============================] - 3s 17ms/step - loss: 0.2029 - accuracy: 0.9171\n",
      "82/82 [==============================] - 0s 2ms/step\n",
      "0.9137134052388289\n",
      "Epoch 1/5\n",
      "183/183 [==============================] - 3s 16ms/step - loss: 0.1972 - accuracy: 0.9205\n",
      "Epoch 2/5\n",
      "183/183 [==============================] - 3s 16ms/step - loss: 0.1915 - accuracy: 0.9222\n",
      "Epoch 3/5\n",
      "183/183 [==============================] - 3s 16ms/step - loss: 0.1955 - accuracy: 0.9197\n",
      "Epoch 4/5\n",
      "183/183 [==============================] - 3s 16ms/step - loss: 0.1919 - accuracy: 0.9215\n",
      "Epoch 5/5\n",
      "183/183 [==============================] - 3s 16ms/step - loss: 0.1888 - accuracy: 0.9212\n",
      "82/82 [==============================] - 0s 2ms/step\n",
      "0.9202619414483821\n"
     ]
    }
   ],
   "source": [
    "for train_index, test_index in cv.split(X, y):\n",
    "    x_train_fold, x_test_fold = X[train_index], X[test_index]\n",
    "    y_train_fold, y_test_fold = y[train_index], y[test_index]\n",
    "    clf.fit(x_train_fold, y_train_fold,epochs=5,batch_size=128)\n",
    "    print(clf.score(x_test_fold, y_test_fold))"
   ]
  },
  {
   "cell_type": "code",
   "execution_count": 135,
   "id": "83e703a1",
   "metadata": {},
   "outputs": [
    {
     "name": "stdout",
     "output_type": "stream",
     "text": [
      "Epoch 1/500\n",
      "163/163 [==============================] - 4s 20ms/step - loss: 0.1902 - accuracy: 0.9230 - val_loss: 0.1200 - val_accuracy: 0.9501 - lr: 0.0010\n",
      "Epoch 2/500\n",
      "163/163 [==============================] - 3s 18ms/step - loss: 0.1794 - accuracy: 0.9270 - val_loss: 0.1319 - val_accuracy: 0.9474 - lr: 0.0010\n",
      "Epoch 3/500\n",
      "163/163 [==============================] - 3s 18ms/step - loss: 0.1801 - accuracy: 0.9266 - val_loss: 0.1527 - val_accuracy: 0.9386 - lr: 0.0010\n",
      "Epoch 4/500\n",
      "163/163 [==============================] - 3s 18ms/step - loss: 0.1774 - accuracy: 0.9287 - val_loss: 0.1472 - val_accuracy: 0.9386 - lr: 0.0010\n",
      "Epoch 5/500\n",
      "163/163 [==============================] - 3s 18ms/step - loss: 0.1706 - accuracy: 0.9328 - val_loss: 0.1485 - val_accuracy: 0.9363 - lr: 0.0010\n",
      "Epoch 6/500\n",
      "163/163 [==============================] - 3s 17ms/step - loss: 0.1666 - accuracy: 0.9325 - val_loss: 0.1799 - val_accuracy: 0.9241 - lr: 0.0010\n",
      "Epoch 7/500\n",
      "163/163 [==============================] - 3s 17ms/step - loss: 0.1605 - accuracy: 0.9360 - val_loss: 0.1669 - val_accuracy: 0.9309 - lr: 0.0010\n",
      "Epoch 8/500\n",
      "163/163 [==============================] - 3s 18ms/step - loss: 0.1574 - accuracy: 0.9369 - val_loss: 0.1572 - val_accuracy: 0.9359 - lr: 0.0010\n",
      "Epoch 9/500\n",
      "163/163 [==============================] - 3s 17ms/step - loss: 0.1550 - accuracy: 0.9381 - val_loss: 0.1748 - val_accuracy: 0.9307 - lr: 0.0010\n",
      "Epoch 10/500\n",
      "163/163 [==============================] - 3s 18ms/step - loss: 0.1646 - accuracy: 0.9343 - val_loss: 0.1659 - val_accuracy: 0.9324 - lr: 0.0010\n",
      "Epoch 11/500\n",
      "163/163 [==============================] - 3s 18ms/step - loss: 0.1511 - accuracy: 0.9399 - val_loss: 0.1794 - val_accuracy: 0.9313 - lr: 0.0010\n",
      "Epoch 12/500\n",
      "163/163 [==============================] - 3s 18ms/step - loss: 0.1402 - accuracy: 0.9445 - val_loss: 0.1853 - val_accuracy: 0.9234 - lr: 0.0010\n",
      "Epoch 13/500\n",
      "163/163 [==============================] - 3s 19ms/step - loss: 0.1549 - accuracy: 0.9378 - val_loss: 0.1759 - val_accuracy: 0.9330 - lr: 0.0010\n",
      "Epoch 14/500\n",
      "163/163 [==============================] - 3s 18ms/step - loss: 0.1462 - accuracy: 0.9432 - val_loss: 0.1796 - val_accuracy: 0.9303 - lr: 0.0010\n",
      "Epoch 15/500\n",
      "163/163 [==============================] - 3s 18ms/step - loss: 0.1423 - accuracy: 0.9424 - val_loss: 0.1784 - val_accuracy: 0.9286 - lr: 0.0010\n",
      "Epoch 16/500\n",
      "163/163 [==============================] - 3s 19ms/step - loss: 0.1396 - accuracy: 0.9450 - val_loss: 0.2008 - val_accuracy: 0.9222 - lr: 0.0010\n",
      "Epoch 17/500\n",
      "163/163 [==============================] - 3s 19ms/step - loss: 0.1373 - accuracy: 0.9466 - val_loss: 0.1792 - val_accuracy: 0.9318 - lr: 0.0010\n",
      "Epoch 18/500\n",
      "163/163 [==============================] - 3s 19ms/step - loss: 0.1355 - accuracy: 0.9483 - val_loss: 0.2190 - val_accuracy: 0.9153 - lr: 0.0010\n",
      "Epoch 19/500\n",
      "163/163 [==============================] - 3s 18ms/step - loss: 0.1342 - accuracy: 0.9482 - val_loss: 0.2145 - val_accuracy: 0.9109 - lr: 0.0010\n",
      "Epoch 20/500\n",
      "163/163 [==============================] - 3s 18ms/step - loss: 0.1409 - accuracy: 0.9425 - val_loss: 0.1925 - val_accuracy: 0.9255 - lr: 0.0010\n",
      "Epoch 21/500\n",
      "163/163 [==============================] - 3s 18ms/step - loss: 0.1286 - accuracy: 0.9501 - val_loss: 0.1919 - val_accuracy: 0.9268 - lr: 0.0010\n",
      "Epoch 21: early stopping\n"
     ]
    }
   ],
   "source": [
    "history=model.fit(X_train,y_train,validation_split=0.2,epochs=500,batch_size=128,callbacks=callbacks)"
   ]
  },
  {
   "cell_type": "code",
   "execution_count": 102,
   "id": "764db141",
   "metadata": {},
   "outputs": [],
   "source": [
    "model = keras.models.load_model('D:\\\\ML\\DL Repo\\\\tabular-playground-series-apr-2022\\\\model\\\\best_model.h5')"
   ]
  },
  {
   "cell_type": "code",
   "execution_count": 103,
   "id": "78e3b31c",
   "metadata": {},
   "outputs": [],
   "source": [
    "test = pd.read_csv('D:\\\\ML\\\\tabular-playground-series-apr-2022\\\\test.csv')\n",
    "test_X = test.drop(['sequence','subject','step'],axis=1)\n",
    "Seq = test.groupby('sequence').sum().index\n",
    "test_X = np.array(test_X).reshape((-1,60,13))"
   ]
  },
  {
   "cell_type": "code",
   "execution_count": 104,
   "id": "16ddb478",
   "metadata": {},
   "outputs": [],
   "source": [
    "test_y = model_1.predict(test_X)"
   ]
  },
  {
   "cell_type": "code",
   "execution_count": 105,
   "id": "e10fd262",
   "metadata": {},
   "outputs": [
    {
     "data": {
      "text/html": [
       "<div>\n",
       "<style scoped>\n",
       "    .dataframe tbody tr th:only-of-type {\n",
       "        vertical-align: middle;\n",
       "    }\n",
       "\n",
       "    .dataframe tbody tr th {\n",
       "        vertical-align: top;\n",
       "    }\n",
       "\n",
       "    .dataframe thead th {\n",
       "        text-align: right;\n",
       "    }\n",
       "</style>\n",
       "<table border=\"1\" class=\"dataframe\">\n",
       "  <thead>\n",
       "    <tr style=\"text-align: right;\">\n",
       "      <th></th>\n",
       "      <th>sequence</th>\n",
       "      <th>state</th>\n",
       "    </tr>\n",
       "  </thead>\n",
       "  <tbody>\n",
       "    <tr>\n",
       "      <th>0</th>\n",
       "      <td>25968</td>\n",
       "      <td>1</td>\n",
       "    </tr>\n",
       "    <tr>\n",
       "      <th>1</th>\n",
       "      <td>25969</td>\n",
       "      <td>1</td>\n",
       "    </tr>\n",
       "    <tr>\n",
       "      <th>2</th>\n",
       "      <td>25970</td>\n",
       "      <td>0</td>\n",
       "    </tr>\n",
       "    <tr>\n",
       "      <th>3</th>\n",
       "      <td>25971</td>\n",
       "      <td>1</td>\n",
       "    </tr>\n",
       "    <tr>\n",
       "      <th>4</th>\n",
       "      <td>25972</td>\n",
       "      <td>1</td>\n",
       "    </tr>\n",
       "  </tbody>\n",
       "</table>\n",
       "</div>"
      ],
      "text/plain": [
       "   sequence  state\n",
       "0     25968      1\n",
       "1     25969      1\n",
       "2     25970      0\n",
       "3     25971      1\n",
       "4     25972      1"
      ]
     },
     "execution_count": 105,
     "metadata": {},
     "output_type": "execute_result"
    }
   ],
   "source": [
    "test_y = np.int16(np.squeeze(test_y)>0.5)\n",
    "test_data = pd.DataFrame(Seq,columns=['sequence'])\n",
    "test_data['state'] = test_y\n",
    "test_data.head()"
   ]
  },
  {
   "cell_type": "code",
   "execution_count": 106,
   "id": "0e1337a4",
   "metadata": {},
   "outputs": [],
   "source": [
    "test_data.to_csv('D:\\\\ML\\\\DL Repo\\\\tabular-playground-series-apr-2022\\\\out\\\\my_submission_file.csv', index=False)"
   ]
  },
  {
   "cell_type": "markdown",
   "id": "9c1c1f1b",
   "metadata": {},
   "source": [
    "# TCN "
   ]
  },
  {
   "cell_type": "code",
   "execution_count": 126,
   "id": "a1dccf69",
   "metadata": {},
   "outputs": [
    {
     "data": {
      "text/plain": [
       "253"
      ]
     },
     "execution_count": 126,
     "metadata": {},
     "output_type": "execute_result"
    }
   ],
   "source": [
    "tcn_layer = TCN(input_shape=(60,13),\n",
    "    dropout_rate=0.2)\n",
    "tcn_layer.receptive_field"
   ]
  },
  {
   "cell_type": "code",
   "execution_count": 127,
   "id": "6dc4acf0",
   "metadata": {},
   "outputs": [],
   "source": [
    "tcn_model = Sequential()\n",
    "tcn_model.add(tcn_layer)\n",
    "tcn_model.add(Dense(1, activation='sigmoid'))"
   ]
  },
  {
   "cell_type": "code",
   "execution_count": 128,
   "id": "fef96f3e",
   "metadata": {},
   "outputs": [],
   "source": [
    "tcn_model.compile(loss='binary_crossentropy', optimizer='adam', metrics=['accuracy'])"
   ]
  },
  {
   "cell_type": "code",
   "execution_count": 129,
   "id": "224ed7dd",
   "metadata": {},
   "outputs": [
    {
     "name": "stdout",
     "output_type": "stream",
     "text": [
      "Epoch 1/500\n",
      "163/163 [==============================] - 4s 15ms/step - loss: 7.7405 - accuracy: 0.5101 - val_loss: 1.6165 - val_accuracy: 0.5268 - lr: 0.0010\n",
      "Epoch 2/500\n",
      "163/163 [==============================] - 3s 15ms/step - loss: 2.2277 - accuracy: 0.5230 - val_loss: 1.1640 - val_accuracy: 0.5187 - lr: 0.0010\n",
      "Epoch 3/500\n",
      "163/163 [==============================] - 2s 13ms/step - loss: 1.4771 - accuracy: 0.5382 - val_loss: 0.9429 - val_accuracy: 0.5281 - lr: 0.0010\n",
      "Epoch 4/500\n",
      "163/163 [==============================] - 2s 13ms/step - loss: 1.1618 - accuracy: 0.5300 - val_loss: 0.8198 - val_accuracy: 0.5420 - lr: 0.0010\n",
      "Epoch 5/500\n",
      "163/163 [==============================] - 3s 15ms/step - loss: 0.9703 - accuracy: 0.5327 - val_loss: 0.7537 - val_accuracy: 0.5485 - lr: 0.0010\n",
      "Epoch 6/500\n",
      "163/163 [==============================] - 2s 15ms/step - loss: 0.8507 - accuracy: 0.5400 - val_loss: 0.7308 - val_accuracy: 0.5504 - lr: 0.0010\n",
      "Epoch 7/500\n",
      "163/163 [==============================] - 2s 13ms/step - loss: 0.7913 - accuracy: 0.5441 - val_loss: 0.7085 - val_accuracy: 0.5520 - lr: 0.0010\n",
      "Epoch 8/500\n",
      "163/163 [==============================] - 2s 13ms/step - loss: 0.7592 - accuracy: 0.5434 - val_loss: 0.7088 - val_accuracy: 0.5397 - lr: 0.0010\n",
      "Epoch 9/500\n",
      "163/163 [==============================] - 2s 13ms/step - loss: 0.7342 - accuracy: 0.5491 - val_loss: 0.6994 - val_accuracy: 0.5497 - lr: 0.0010\n",
      "Epoch 10/500\n",
      "163/163 [==============================] - 2s 15ms/step - loss: 0.7194 - accuracy: 0.5516 - val_loss: 0.6987 - val_accuracy: 0.5583 - lr: 0.0010\n",
      "Epoch 11/500\n",
      "163/163 [==============================] - 2s 15ms/step - loss: 0.7088 - accuracy: 0.5573 - val_loss: 0.6967 - val_accuracy: 0.5545 - lr: 0.0010\n",
      "Epoch 12/500\n",
      "163/163 [==============================] - 2s 14ms/step - loss: 0.7051 - accuracy: 0.5526 - val_loss: 0.6961 - val_accuracy: 0.5568 - lr: 0.0010\n",
      "Epoch 13/500\n",
      "163/163 [==============================] - 3s 15ms/step - loss: 0.7005 - accuracy: 0.5661 - val_loss: 0.6936 - val_accuracy: 0.5662 - lr: 0.0010\n",
      "Epoch 14/500\n",
      "163/163 [==============================] - 2s 13ms/step - loss: 0.6900 - accuracy: 0.5669 - val_loss: 0.6938 - val_accuracy: 0.5626 - lr: 0.0010\n",
      "Epoch 15/500\n",
      "163/163 [==============================] - 2s 13ms/step - loss: 0.6867 - accuracy: 0.5700 - val_loss: 0.6934 - val_accuracy: 0.5647 - lr: 0.0010\n",
      "Epoch 16/500\n",
      "163/163 [==============================] - 2s 13ms/step - loss: 0.6863 - accuracy: 0.5707 - val_loss: 0.6954 - val_accuracy: 0.5645 - lr: 0.0010\n",
      "Epoch 17/500\n",
      "163/163 [==============================] - 2s 13ms/step - loss: 0.6801 - accuracy: 0.5847 - val_loss: 0.6953 - val_accuracy: 0.5735 - lr: 0.0010\n",
      "Epoch 18/500\n",
      "163/163 [==============================] - 2s 13ms/step - loss: 0.6767 - accuracy: 0.5800 - val_loss: 0.6932 - val_accuracy: 0.5697 - lr: 0.0010\n",
      "Epoch 19/500\n",
      "163/163 [==============================] - 2s 13ms/step - loss: 0.6736 - accuracy: 0.5861 - val_loss: 0.6916 - val_accuracy: 0.5753 - lr: 0.0010\n",
      "Epoch 20/500\n",
      "163/163 [==============================] - 2s 13ms/step - loss: 0.6729 - accuracy: 0.5864 - val_loss: 0.6940 - val_accuracy: 0.5701 - lr: 0.0010\n",
      "Epoch 21/500\n",
      "163/163 [==============================] - 2s 13ms/step - loss: 0.6721 - accuracy: 0.5867 - val_loss: 0.6892 - val_accuracy: 0.5809 - lr: 0.0010\n",
      "Epoch 22/500\n",
      "163/163 [==============================] - 2s 13ms/step - loss: 0.6713 - accuracy: 0.5913 - val_loss: 0.6863 - val_accuracy: 0.5841 - lr: 0.0010\n",
      "Epoch 23/500\n",
      "163/163 [==============================] - 2s 13ms/step - loss: 0.6643 - accuracy: 0.5998 - val_loss: 0.6881 - val_accuracy: 0.5857 - lr: 0.0010\n",
      "Epoch 24/500\n",
      "163/163 [==============================] - 2s 14ms/step - loss: 0.6642 - accuracy: 0.5951 - val_loss: 0.6863 - val_accuracy: 0.5730 - lr: 0.0010\n",
      "Epoch 25/500\n",
      "163/163 [==============================] - 2s 15ms/step - loss: 0.6622 - accuracy: 0.5994 - val_loss: 0.6854 - val_accuracy: 0.5903 - lr: 0.0010\n",
      "Epoch 26/500\n",
      "163/163 [==============================] - 2s 15ms/step - loss: 0.6597 - accuracy: 0.6046 - val_loss: 0.6860 - val_accuracy: 0.5797 - lr: 0.0010\n",
      "Epoch 27/500\n",
      "163/163 [==============================] - 2s 14ms/step - loss: 0.6578 - accuracy: 0.6058 - val_loss: 0.6881 - val_accuracy: 0.5824 - lr: 0.0010\n",
      "Epoch 28/500\n",
      "163/163 [==============================] - 2s 15ms/step - loss: 0.6553 - accuracy: 0.6091 - val_loss: 0.6897 - val_accuracy: 0.5863 - lr: 0.0010\n",
      "Epoch 29/500\n",
      "163/163 [==============================] - 2s 15ms/step - loss: 0.6567 - accuracy: 0.6095 - val_loss: 0.6834 - val_accuracy: 0.5864 - lr: 0.0010\n",
      "Epoch 30/500\n",
      "163/163 [==============================] - 2s 15ms/step - loss: 0.6485 - accuracy: 0.6180 - val_loss: 0.6847 - val_accuracy: 0.5876 - lr: 0.0010\n",
      "Epoch 31/500\n",
      "163/163 [==============================] - 2s 15ms/step - loss: 0.6455 - accuracy: 0.6191 - val_loss: 0.6799 - val_accuracy: 0.5855 - lr: 0.0010\n",
      "Epoch 32/500\n",
      "163/163 [==============================] - 2s 15ms/step - loss: 0.6459 - accuracy: 0.6201 - val_loss: 0.6790 - val_accuracy: 0.5878 - lr: 0.0010\n",
      "Epoch 33/500\n",
      "163/163 [==============================] - 2s 15ms/step - loss: 0.6505 - accuracy: 0.6229 - val_loss: 0.6810 - val_accuracy: 0.5863 - lr: 0.0010\n",
      "Epoch 34/500\n",
      "163/163 [==============================] - 2s 15ms/step - loss: 0.6406 - accuracy: 0.6291 - val_loss: 0.6791 - val_accuracy: 0.5913 - lr: 0.0010\n",
      "Epoch 35/500\n",
      "163/163 [==============================] - 2s 15ms/step - loss: 0.6379 - accuracy: 0.6273 - val_loss: 0.6817 - val_accuracy: 0.5905 - lr: 0.0010\n",
      "Epoch 36/500\n",
      "163/163 [==============================] - 2s 15ms/step - loss: 0.6388 - accuracy: 0.6330 - val_loss: 0.6803 - val_accuracy: 0.5967 - lr: 0.0010\n",
      "Epoch 37/500\n",
      "163/163 [==============================] - 2s 15ms/step - loss: 0.6337 - accuracy: 0.6360 - val_loss: 0.6773 - val_accuracy: 0.6028 - lr: 0.0010\n",
      "Epoch 38/500\n",
      "163/163 [==============================] - 2s 14ms/step - loss: 0.6270 - accuracy: 0.6420 - val_loss: 0.6766 - val_accuracy: 0.6011 - lr: 0.0010\n",
      "Epoch 39/500\n",
      "163/163 [==============================] - 2s 15ms/step - loss: 0.6249 - accuracy: 0.6471 - val_loss: 0.6761 - val_accuracy: 0.6042 - lr: 0.0010\n",
      "Epoch 40/500\n",
      "163/163 [==============================] - 2s 13ms/step - loss: 0.6150 - accuracy: 0.6561 - val_loss: 0.6763 - val_accuracy: 0.6169 - lr: 0.0010\n",
      "Epoch 41/500\n",
      "163/163 [==============================] - 2s 13ms/step - loss: 0.6133 - accuracy: 0.6560 - val_loss: 0.6695 - val_accuracy: 0.6053 - lr: 0.0010\n",
      "Epoch 42/500\n",
      "163/163 [==============================] - 2s 13ms/step - loss: 0.6136 - accuracy: 0.6576 - val_loss: 0.6752 - val_accuracy: 0.6097 - lr: 0.0010\n",
      "Epoch 43/500\n",
      "163/163 [==============================] - 2s 13ms/step - loss: 0.6028 - accuracy: 0.6658 - val_loss: 0.6703 - val_accuracy: 0.6095 - lr: 0.0010\n",
      "Epoch 44/500\n",
      "163/163 [==============================] - 2s 15ms/step - loss: 0.6031 - accuracy: 0.6692 - val_loss: 0.6675 - val_accuracy: 0.6078 - lr: 0.0010\n",
      "Epoch 45/500\n",
      "163/163 [==============================] - 2s 15ms/step - loss: 0.5944 - accuracy: 0.6737 - val_loss: 0.6708 - val_accuracy: 0.6169 - lr: 0.0010\n",
      "Epoch 46/500\n",
      "163/163 [==============================] - 2s 15ms/step - loss: 0.5886 - accuracy: 0.6793 - val_loss: 0.6789 - val_accuracy: 0.6194 - lr: 0.0010\n",
      "Epoch 47/500\n",
      "163/163 [==============================] - 2s 15ms/step - loss: 0.5867 - accuracy: 0.6833 - val_loss: 0.6587 - val_accuracy: 0.6280 - lr: 0.0010\n",
      "Epoch 48/500\n",
      "163/163 [==============================] - 2s 15ms/step - loss: 0.5828 - accuracy: 0.6929 - val_loss: 0.6605 - val_accuracy: 0.6296 - lr: 0.0010\n",
      "Epoch 49/500\n",
      "163/163 [==============================] - 2s 15ms/step - loss: 0.5738 - accuracy: 0.6881 - val_loss: 0.6685 - val_accuracy: 0.6273 - lr: 0.0010\n",
      "Epoch 50/500\n",
      "163/163 [==============================] - 2s 15ms/step - loss: 0.5711 - accuracy: 0.6946 - val_loss: 0.6724 - val_accuracy: 0.6330 - lr: 0.0010\n",
      "Epoch 51/500\n",
      "163/163 [==============================] - 2s 15ms/step - loss: 0.5640 - accuracy: 0.7059 - val_loss: 0.6622 - val_accuracy: 0.6353 - lr: 0.0010\n",
      "Epoch 52/500\n",
      "163/163 [==============================] - 2s 13ms/step - loss: 0.5630 - accuracy: 0.7064 - val_loss: 0.6521 - val_accuracy: 0.6275 - lr: 0.0010\n"
     ]
    },
    {
     "name": "stdout",
     "output_type": "stream",
     "text": [
      "Epoch 53/500\n",
      "163/163 [==============================] - 2s 15ms/step - loss: 0.5478 - accuracy: 0.7138 - val_loss: 0.6760 - val_accuracy: 0.6261 - lr: 0.0010\n",
      "Epoch 54/500\n",
      "163/163 [==============================] - 2s 15ms/step - loss: 0.5487 - accuracy: 0.7148 - val_loss: 0.6633 - val_accuracy: 0.6344 - lr: 0.0010\n",
      "Epoch 55/500\n",
      "163/163 [==============================] - 2s 15ms/step - loss: 0.5389 - accuracy: 0.7190 - val_loss: 0.6694 - val_accuracy: 0.6327 - lr: 0.0010\n",
      "Epoch 56/500\n",
      "163/163 [==============================] - 2s 15ms/step - loss: 0.5277 - accuracy: 0.7301 - val_loss: 0.6771 - val_accuracy: 0.6396 - lr: 0.0010\n",
      "Epoch 57/500\n",
      "163/163 [==============================] - 2s 15ms/step - loss: 0.5278 - accuracy: 0.7287 - val_loss: 0.6731 - val_accuracy: 0.6278 - lr: 0.0010\n",
      "Epoch 58/500\n",
      "163/163 [==============================] - 2s 15ms/step - loss: 0.5241 - accuracy: 0.7282 - val_loss: 0.6760 - val_accuracy: 0.6315 - lr: 0.0010\n",
      "Epoch 59/500\n",
      "163/163 [==============================] - 3s 16ms/step - loss: 0.5114 - accuracy: 0.7366 - val_loss: 0.6710 - val_accuracy: 0.6421 - lr: 0.0010\n",
      "Epoch 60/500\n",
      "163/163 [==============================] - 2s 15ms/step - loss: 0.5109 - accuracy: 0.7423 - val_loss: 0.6755 - val_accuracy: 0.6430 - lr: 0.0010\n",
      "Epoch 61/500\n",
      "163/163 [==============================] - 2s 15ms/step - loss: 0.5005 - accuracy: 0.7491 - val_loss: 0.6852 - val_accuracy: 0.6477 - lr: 0.0010\n",
      "Epoch 62/500\n",
      "163/163 [==============================] - 2s 15ms/step - loss: 0.4998 - accuracy: 0.7487 - val_loss: 0.6805 - val_accuracy: 0.6404 - lr: 0.0010\n",
      "Epoch 63/500\n",
      "163/163 [==============================] - 2s 15ms/step - loss: 0.4883 - accuracy: 0.7593 - val_loss: 0.6762 - val_accuracy: 0.6398 - lr: 0.0010\n",
      "Epoch 64/500\n",
      "163/163 [==============================] - 3s 15ms/step - loss: 0.4875 - accuracy: 0.7582 - val_loss: 0.6741 - val_accuracy: 0.6456 - lr: 0.0010\n",
      "Epoch 65/500\n",
      "163/163 [==============================] - 2s 15ms/step - loss: 0.4759 - accuracy: 0.7642 - val_loss: 0.6872 - val_accuracy: 0.6556 - lr: 0.0010\n",
      "Epoch 66/500\n",
      "163/163 [==============================] - 2s 15ms/step - loss: 0.4691 - accuracy: 0.7723 - val_loss: 0.6872 - val_accuracy: 0.6446 - lr: 0.0010\n",
      "Epoch 67/500\n",
      "163/163 [==============================] - 3s 15ms/step - loss: 0.4666 - accuracy: 0.7722 - val_loss: 0.6933 - val_accuracy: 0.6542 - lr: 0.0010\n",
      "Epoch 68/500\n",
      "163/163 [==============================] - 2s 14ms/step - loss: 0.4561 - accuracy: 0.7755 - val_loss: 0.6920 - val_accuracy: 0.6486 - lr: 0.0010\n",
      "Epoch 69/500\n",
      "163/163 [==============================] - 2s 15ms/step - loss: 0.4567 - accuracy: 0.7790 - val_loss: 0.6915 - val_accuracy: 0.6523 - lr: 0.0010\n",
      "Epoch 70/500\n",
      "163/163 [==============================] - 2s 15ms/step - loss: 0.4409 - accuracy: 0.7881 - val_loss: 0.7086 - val_accuracy: 0.6544 - lr: 0.0010\n",
      "Epoch 71/500\n",
      "163/163 [==============================] - 3s 15ms/step - loss: 0.4350 - accuracy: 0.7900 - val_loss: 0.7285 - val_accuracy: 0.6484 - lr: 0.0010\n",
      "Epoch 72/500\n",
      "163/163 [==============================] - 2s 15ms/step - loss: 0.4302 - accuracy: 0.7928 - val_loss: 0.7093 - val_accuracy: 0.6617 - lr: 0.0010\n",
      "Epoch 72: early stopping\n"
     ]
    },
    {
     "data": {
      "text/plain": [
       "<keras.callbacks.History at 0x211b5b0b490>"
      ]
     },
     "execution_count": 129,
     "metadata": {},
     "output_type": "execute_result"
    }
   ],
   "source": [
    "tcn_model.fit(X_train,y_train,validation_split=0.2,epochs=500,batch_size=128,callbacks=callbacks)"
   ]
  },
  {
   "cell_type": "code",
   "execution_count": null,
   "id": "c2f15ded",
   "metadata": {},
   "outputs": [],
   "source": []
  }
 ],
 "metadata": {
  "kernelspec": {
   "display_name": "Python 3 (ipykernel)",
   "language": "python",
   "name": "python3"
  },
  "language_info": {
   "codemirror_mode": {
    "name": "ipython",
    "version": 3
   },
   "file_extension": ".py",
   "mimetype": "text/x-python",
   "name": "python",
   "nbconvert_exporter": "python",
   "pygments_lexer": "ipython3",
   "version": "3.10.4"
  }
 },
 "nbformat": 4,
 "nbformat_minor": 5
}
